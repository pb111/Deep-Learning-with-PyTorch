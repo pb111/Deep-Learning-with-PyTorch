{
  "nbformat": 4,
  "nbformat_minor": 0,
  "metadata": {
    "kernelspec": {
      "name": "python3",
      "display_name": "Python 3"
    },
    "language_info": {
      "codemirror_mode": {
        "name": "ipython",
        "version": 3
      },
      "file_extension": ".py",
      "mimetype": "text/x-python",
      "name": "python",
      "nbconvert_exporter": "python",
      "pygments_lexer": "ipython3",
      "version": "3.6.6"
    },
    "colab": {
      "name": "Tensor-operations-in-pytorch.ipynb",
      "provenance": [],
      "include_colab_link": true
    },
    "accelerator": "GPU"
  },
  "cells": [
    {
      "cell_type": "markdown",
      "metadata": {
        "id": "view-in-github",
        "colab_type": "text"
      },
      "source": [
        "<a href=\"https://colab.research.google.com/github/pb111/Deep-Learning-with-PyTorch/blob/master/Tensor_operations_in_pytorch.ipynb\" target=\"_parent\"><img src=\"https://colab.research.google.com/assets/colab-badge.svg\" alt=\"Open In Colab\"/></a>"
      ]
    },
    {
      "cell_type": "markdown",
      "metadata": {
        "id": "3hFtOd_uTBEJ",
        "colab_type": "text"
      },
      "source": [
        "<a class=\"anchor\" id=\"0\"></a>\n",
        "# **Tensor Operations in PyTorch**\n",
        "\n",
        "\n",
        "In this notebook, I will discuss Tensor Operations in PyTorch. Tensors are the basic building blocks of PyTorch library. The data structure used in PyTorch is graph based and tensor based. Therefore, it is important to understand basic operations and defining tensors."
      ]
    },
    {
      "cell_type": "markdown",
      "metadata": {
        "id": "BP5QceiUTBEP",
        "colab_type": "text"
      },
      "source": [
        "<a class=\"anchor\" id=\"0.1\"></a>\n",
        "# **Table of Contents**\n",
        "\n",
        "\n",
        "1.\t[Introduction to Tensors](#1)\n",
        "2.\t[Check for Tensor Object](#2)\n",
        "3.\t[Create Tensors](#3)\n",
        "4.\t[Diagonal Matrix of Tensors](#4)\n",
        "5.\t[Shape of the Tensor](#5)\n",
        "6.\t[Access elements in Tensor](#6)\n",
        "7.\t[Specify data types of elements](#7)\n",
        "8.\t[Tensor to/from NumPy Array](#8)\n",
        "9.\t[Random Sampling of Tensors](#9)\n",
        "10.\t[Basic Statistics with Tensors](#10)\n",
        "11.\t[Arithmetic Operations on Tensors](#11)\n",
        "12.\t[CPU v/s  GPU Tensor](#12)\n",
        "\n"
      ]
    },
    {
      "cell_type": "markdown",
      "metadata": {
        "id": "Omz5o4gsTBER",
        "colab_type": "text"
      },
      "source": [
        "# **1. Introduction to Tensors** <a class=\"anchor\" id=\"1\"></a>\n",
        "\n",
        "[Table of Contents](#0.1)\n",
        "\n",
        "\n",
        "- PyTorch uses [Tensor](https://machinelearningmastery.com/introduction-to-tensors-for-machine-learning/) as its core data structure, which is similar to Numpy array. \n",
        "\n",
        "- With appropriate software and hardware available, tensors provide acceleration of various mathematical operations. These operations when carried out in a large number in Deep Learning make a huge difference in speed.\n",
        "\n",
        "- **Tensors** are the core data structure used in PyTorch.\n",
        "\n",
        "- Tensor is a fancy name given to matrices. Familiarity with NumPy arrays will help us to understand PyTorch Tensors. \n",
        "\n",
        "- A scalar value is represented by a 0-dimensional Tensor. Similarly a column/row matrix use a 1-D Tensor and so on. \n",
        "\n",
        "- Some examples of Tensors with different dimensions are shown below to give us a better picture."
      ]
    },
    {
      "cell_type": "markdown",
      "metadata": {
        "id": "vjiZTE8jTBES",
        "colab_type": "text"
      },
      "source": [
        "![PyTorch Tensors](https://www.learnopencv.com/wp-content/uploads/2019/05/PyTorch-Tensors.jpg)"
      ]
    },
    {
      "cell_type": "markdown",
      "metadata": {
        "id": "YgiJZtWVTBEU",
        "colab_type": "text"
      },
      "source": [
        "# **2. Check for Tensor Object** <a class=\"anchor\" id=\"2\"></a>\n",
        "\n",
        "[Table of Contents](#0.1)\n",
        "\n",
        "\n",
        "- In this section, we will check whether the created object is a tensor object.\n",
        "\n",
        "- First, we will create a list x and check whether it ia a tensor.\n",
        "\n",
        "- The `is_tensor` function helps to check whether the created object is tensor."
      ]
    },
    {
      "cell_type": "code",
      "metadata": {
        "id": "rbu6t93bTBEV",
        "colab_type": "code",
        "colab": {
          "base_uri": "https://localhost:8080/",
          "height": 34
        },
        "outputId": "33de14fc-7501-44ee-d3da-ce246ea5f307"
      },
      "source": [
        "import torch\n",
        "\n",
        "\n",
        "# define a list x\n",
        "x = [10, 20, 30, 40, 50]\n",
        "\n",
        "\n",
        "# check whether x is tensor object\n",
        "torch.is_tensor(x)\n"
      ],
      "execution_count": 1,
      "outputs": [
        {
          "output_type": "execute_result",
          "data": {
            "text/plain": [
              "False"
            ]
          },
          "metadata": {
            "tags": []
          },
          "execution_count": 1
        }
      ]
    },
    {
      "cell_type": "markdown",
      "metadata": {
        "id": "l0_M2mrbTBEd",
        "colab_type": "text"
      },
      "source": [
        "- The above command shows that x is not tensor."
      ]
    },
    {
      "cell_type": "markdown",
      "metadata": {
        "id": "jraz9Wk4TBEf",
        "colab_type": "text"
      },
      "source": [
        "- The `is_storage` function checks whether the object is stored as tensor object."
      ]
    },
    {
      "cell_type": "code",
      "metadata": {
        "id": "M1eqbVPITBEg",
        "colab_type": "code",
        "colab": {
          "base_uri": "https://localhost:8080/",
          "height": 34
        },
        "outputId": "032e18c2-909b-4d92-e2fa-d48b425aec65"
      },
      "source": [
        "# check whether x is stored as tensor object\n",
        "torch.is_storage(x)"
      ],
      "execution_count": 2,
      "outputs": [
        {
          "output_type": "execute_result",
          "data": {
            "text/plain": [
              "False"
            ]
          },
          "metadata": {
            "tags": []
          },
          "execution_count": 2
        }
      ]
    },
    {
      "cell_type": "markdown",
      "metadata": {
        "id": "ie6bcq2lTBEl",
        "colab_type": "text"
      },
      "source": [
        "- The above command shows that x is not stored as tensor object."
      ]
    },
    {
      "cell_type": "markdown",
      "metadata": {
        "id": "bc21UAKxTBEm",
        "colab_type": "text"
      },
      "source": [
        "- Now, we will create an object that contains random numbers from Torch, similar to NumPy library. \n",
        "\n",
        "- We can check the object type and storage type as follows -"
      ]
    },
    {
      "cell_type": "code",
      "metadata": {
        "id": "sB4daBbLTBEo",
        "colab_type": "code",
        "colab": {}
      },
      "source": [
        "# first, we will create a tensor y\n",
        "y = torch.randn(1,2,3,4,5)"
      ],
      "execution_count": 0,
      "outputs": []
    },
    {
      "cell_type": "code",
      "metadata": {
        "id": "FWRbOdh9TBEu",
        "colab_type": "code",
        "colab": {
          "base_uri": "https://localhost:8080/",
          "height": 34
        },
        "outputId": "4b0164a5-5d66-4f41-954d-2c43dcbb5253"
      },
      "source": [
        "# now check whether y is tensor object\n",
        "torch.is_tensor(y)"
      ],
      "execution_count": 4,
      "outputs": [
        {
          "output_type": "execute_result",
          "data": {
            "text/plain": [
              "True"
            ]
          },
          "metadata": {
            "tags": []
          },
          "execution_count": 4
        }
      ]
    },
    {
      "cell_type": "markdown",
      "metadata": {
        "id": "tC6x8-V9TBE1",
        "colab_type": "text"
      },
      "source": [
        "- The above command shows that y is a tensor object.\n",
        "\n"
      ]
    },
    {
      "cell_type": "markdown",
      "metadata": {
        "id": "rLqX1PWYTBE2",
        "colab_type": "text"
      },
      "source": [
        "- Now, let's check whether y is stored as tensor object."
      ]
    },
    {
      "cell_type": "code",
      "metadata": {
        "id": "Du3CRKaVTBE4",
        "colab_type": "code",
        "colab": {
          "base_uri": "https://localhost:8080/",
          "height": 34
        },
        "outputId": "e723bf64-5034-41ef-be0d-e58054882d52"
      },
      "source": [
        "torch.is_storage(y)"
      ],
      "execution_count": 5,
      "outputs": [
        {
          "output_type": "execute_result",
          "data": {
            "text/plain": [
              "False"
            ]
          },
          "metadata": {
            "tags": []
          },
          "execution_count": 5
        }
      ]
    },
    {
      "cell_type": "markdown",
      "metadata": {
        "id": "bk18ul5JTBE8",
        "colab_type": "text"
      },
      "source": [
        "- We can see that y is not stored as tensor object."
      ]
    },
    {
      "cell_type": "markdown",
      "metadata": {
        "id": "ozc93DmeTBE-",
        "colab_type": "text"
      },
      "source": [
        "- The y object is a tensor. But, it is not stored. \n",
        "- To check the total number of elements in the input tensor object, the numerical element function can be used.\n",
        "- Now, we will check the total number of elements in the input tensor as follows -"
      ]
    },
    {
      "cell_type": "code",
      "metadata": {
        "id": "QIoWIkM2TBE_",
        "colab_type": "code",
        "colab": {
          "base_uri": "https://localhost:8080/",
          "height": 34
        },
        "outputId": "803ef3e8-24d0-4574-fed7-2201247c5680"
      },
      "source": [
        "# check the total number of elements in y\n",
        "torch.numel(y)"
      ],
      "execution_count": 6,
      "outputs": [
        {
          "output_type": "execute_result",
          "data": {
            "text/plain": [
              "120"
            ]
          },
          "metadata": {
            "tags": []
          },
          "execution_count": 6
        }
      ]
    },
    {
      "cell_type": "markdown",
      "metadata": {
        "id": "uCsLRMbVTBFE",
        "colab_type": "text"
      },
      "source": [
        "- We can see that the total number of elements in y is 120."
      ]
    },
    {
      "cell_type": "markdown",
      "metadata": {
        "id": "W87ImVxnTBFH",
        "colab_type": "text"
      },
      "source": [
        "# **3. Create Tensors** <a class=\"anchor\" id=\"3\"></a>\n",
        "\n",
        "[Table of Contents](#0.1)\n",
        "\n",
        "- Now, we will create a PyTorch Tensor. "
      ]
    },
    {
      "cell_type": "code",
      "metadata": {
        "id": "Rh2lLBMhTBFI",
        "colab_type": "code",
        "colab": {
          "base_uri": "https://localhost:8080/",
          "height": 0
        },
        "outputId": "896b8ad8-d892-45cb-e02f-b021bbee0795"
      },
      "source": [
        "# Create a Tensor with just ones in a column\n",
        "a = torch.ones(5)\n",
        "\n",
        "\n",
        "# Print the tensor we created\n",
        "print(a)"
      ],
      "execution_count": 7,
      "outputs": [
        {
          "output_type": "stream",
          "text": [
            "tensor([1., 1., 1., 1., 1.])\n"
          ],
          "name": "stdout"
        }
      ]
    },
    {
      "cell_type": "code",
      "metadata": {
        "id": "jYp-gpVbTBFN",
        "colab_type": "code",
        "colab": {
          "base_uri": "https://localhost:8080/",
          "height": 0
        },
        "outputId": "1f7770cc-b932-49d3-ec9d-56e4d7dfc30f"
      },
      "source": [
        "# Create a Tensor with just zeros in a column\n",
        "b = torch.zeros(5)\n",
        "\n",
        "\n",
        "# Print the tensor we created\n",
        "print(b)"
      ],
      "execution_count": 8,
      "outputs": [
        {
          "output_type": "stream",
          "text": [
            "tensor([0., 0., 0., 0., 0.])\n"
          ],
          "name": "stdout"
        }
      ]
    },
    {
      "cell_type": "markdown",
      "metadata": {
        "id": "3mgHvCBQTBFR",
        "colab_type": "text"
      },
      "source": [
        "- We can similarly create Tensor with custom values as shown below."
      ]
    },
    {
      "cell_type": "code",
      "metadata": {
        "id": "Crj5070iTBFT",
        "colab_type": "code",
        "colab": {
          "base_uri": "https://localhost:8080/",
          "height": 0
        },
        "outputId": "1bfe21cc-7c9a-44f6-a01c-3b78fa6bcc6e"
      },
      "source": [
        "# Create a Tensor with custom values\n",
        "c = torch.tensor([1.0, 2.0, 3.0, 4.0, 5.0])\n",
        "\n",
        "# Print the tensor we created\n",
        "print(c)"
      ],
      "execution_count": 9,
      "outputs": [
        {
          "output_type": "stream",
          "text": [
            "tensor([1., 2., 3., 4., 5.])\n"
          ],
          "name": "stdout"
        }
      ]
    },
    {
      "cell_type": "markdown",
      "metadata": {
        "id": "Xgnfx85uTBFX",
        "colab_type": "text"
      },
      "source": [
        "- In all the above cases, we have created vectors or Tensors of dimension 1. Now, we will create some tensors of higher dimensions.\n",
        "\n",
        "- First, we will create a tensor of zeros with higher dimensions. "
      ]
    },
    {
      "cell_type": "code",
      "metadata": {
        "id": "Xh9Z8G5JTBFZ",
        "colab_type": "code",
        "colab": {
          "base_uri": "https://localhost:8080/",
          "height": 0
        },
        "outputId": "30bea56e-6fe3-4946-c70f-782416fe3924"
      },
      "source": [
        "# Create a Tensor with zeros with higher dimensions\n",
        "d = torch.zeros(4,4)\n",
        "\n",
        "# Print the tensor we created\n",
        "print(d)"
      ],
      "execution_count": 10,
      "outputs": [
        {
          "output_type": "stream",
          "text": [
            "tensor([[0., 0., 0., 0.],\n",
            "        [0., 0., 0., 0.],\n",
            "        [0., 0., 0., 0.],\n",
            "        [0., 0., 0., 0.]])\n"
          ],
          "name": "stdout"
        }
      ]
    },
    {
      "cell_type": "code",
      "metadata": {
        "id": "mBGYCrVETBFg",
        "colab_type": "code",
        "colab": {
          "base_uri": "https://localhost:8080/",
          "height": 0
        },
        "outputId": "e7fd64d0-f753-4145-aff7-b2248296e7f4"
      },
      "source": [
        "# now we will count the numerical elements in d\n",
        "torch.numel(d)"
      ],
      "execution_count": 11,
      "outputs": [
        {
          "output_type": "execute_result",
          "data": {
            "text/plain": [
              "16"
            ]
          },
          "metadata": {
            "tags": []
          },
          "execution_count": 11
        }
      ]
    },
    {
      "cell_type": "markdown",
      "metadata": {
        "id": "_LNIxSdMTBFk",
        "colab_type": "text"
      },
      "source": [
        "- So, the tensor `d` have 16 elements in it."
      ]
    },
    {
      "cell_type": "code",
      "metadata": {
        "id": "-XvOFe0FTBFl",
        "colab_type": "code",
        "colab": {
          "base_uri": "https://localhost:8080/",
          "height": 0
        },
        "outputId": "c370404f-3d27-4a52-b330-0979c8467f82"
      },
      "source": [
        "# Create a Tensor with zeros with higher dimensions\n",
        "e = torch.zeros(3,2)\n",
        "\n",
        "# Print the tensor we created\n",
        "print(e)"
      ],
      "execution_count": 12,
      "outputs": [
        {
          "output_type": "stream",
          "text": [
            "tensor([[0., 0.],\n",
            "        [0., 0.],\n",
            "        [0., 0.]])\n"
          ],
          "name": "stdout"
        }
      ]
    },
    {
      "cell_type": "code",
      "metadata": {
        "id": "_ofXdvJTTBFr",
        "colab_type": "code",
        "colab": {
          "base_uri": "https://localhost:8080/",
          "height": 0
        },
        "outputId": "52dee1d1-7c2e-45d2-f5b1-587e4796935e"
      },
      "source": [
        "# Create a Tensor with ones with higher dimensions\n",
        "f = torch.ones(3,2)\n",
        "\n",
        "# Print the tensor we created\n",
        "print(f)"
      ],
      "execution_count": 13,
      "outputs": [
        {
          "output_type": "stream",
          "text": [
            "tensor([[1., 1.],\n",
            "        [1., 1.],\n",
            "        [1., 1.]])\n"
          ],
          "name": "stdout"
        }
      ]
    },
    {
      "cell_type": "code",
      "metadata": {
        "id": "AmDndZtrTBFw",
        "colab_type": "code",
        "colab": {
          "base_uri": "https://localhost:8080/",
          "height": 0
        },
        "outputId": "e259895c-5a2d-4dbd-b965-41a52c015f1c"
      },
      "source": [
        "# Create a Tensor with customized values with higher dimensions\n",
        "g = torch.tensor([[1.0, 2.0], [3.0, 4.0]])\n",
        "\n",
        "# Print the tensor we created\n",
        "print(g)"
      ],
      "execution_count": 14,
      "outputs": [
        {
          "output_type": "stream",
          "text": [
            "tensor([[1., 2.],\n",
            "        [3., 4.]])\n"
          ],
          "name": "stdout"
        }
      ]
    },
    {
      "cell_type": "code",
      "metadata": {
        "id": "CyZmjd-TTBF0",
        "colab_type": "code",
        "colab": {
          "base_uri": "https://localhost:8080/",
          "height": 0
        },
        "outputId": "97c3c3f1-3f1f-4895-d0d2-88c8f19bad06"
      },
      "source": [
        "# Create a 3D Tensor\n",
        "h = torch.tensor([[[1.0, 2.0], [3.0, 4.0]], [[5.0, 6.0], [7.0, 8.0]]])\n",
        "\n",
        "# Print the 3d tensor we created\n",
        "print(h)"
      ],
      "execution_count": 15,
      "outputs": [
        {
          "output_type": "stream",
          "text": [
            "tensor([[[1., 2.],\n",
            "         [3., 4.]],\n",
            "\n",
            "        [[5., 6.],\n",
            "         [7., 8.]]])\n"
          ],
          "name": "stdout"
        }
      ]
    },
    {
      "cell_type": "markdown",
      "metadata": {
        "id": "E-TLqkxATBF6",
        "colab_type": "text"
      },
      "source": [
        "# **4. Diagonal Matrix of Tensors** <a class=\"anchor\" id=\"4\"></a>\n",
        "\n",
        "[Table of Contents](#0.1)\n",
        "\n",
        "- Like NumPy operations, the eye function creates a diagonal matrix of tensors.\n",
        "- The diagonal elements have ones, and off diagonal elements have zeros. "
      ]
    },
    {
      "cell_type": "code",
      "metadata": {
        "id": "pqWuNjJRTBF7",
        "colab_type": "code",
        "colab": {
          "base_uri": "https://localhost:8080/",
          "height": 0
        },
        "outputId": "35143829-a1df-4189-a568-c4cd566632d3"
      },
      "source": [
        "# create a diagonal matrix of tensors with dimensions (3,3)\n",
        "i = torch.eye(3,3)\n",
        "\n",
        "print(i)"
      ],
      "execution_count": 16,
      "outputs": [
        {
          "output_type": "stream",
          "text": [
            "tensor([[1., 0., 0.],\n",
            "        [0., 1., 0.],\n",
            "        [0., 0., 1.]])\n"
          ],
          "name": "stdout"
        }
      ]
    },
    {
      "cell_type": "code",
      "metadata": {
        "id": "ROHBc2HSTBGA",
        "colab_type": "code",
        "colab": {
          "base_uri": "https://localhost:8080/",
          "height": 0
        },
        "outputId": "704c6def-43fd-4a0d-a6ce-c29ac5e8d9a9"
      },
      "source": [
        "# create a diagonal matrix of tensors with dimensions (5,5)\n",
        "j = torch.eye(5,5)\n",
        "\n",
        "print(j)"
      ],
      "execution_count": 17,
      "outputs": [
        {
          "output_type": "stream",
          "text": [
            "tensor([[1., 0., 0., 0., 0.],\n",
            "        [0., 1., 0., 0., 0.],\n",
            "        [0., 0., 1., 0., 0.],\n",
            "        [0., 0., 0., 1., 0.],\n",
            "        [0., 0., 0., 0., 1.]])\n"
          ],
          "name": "stdout"
        }
      ]
    },
    {
      "cell_type": "markdown",
      "metadata": {
        "id": "7wbcI_2YTBGE",
        "colab_type": "text"
      },
      "source": [
        "# **5. Shape of the Tensor** <a class=\"anchor\" id=\"5\"></a>\n",
        "\n",
        "[Table of Contents](#0.1)\n",
        "\n",
        "- We can also find out the shape of a Tensor using **shape** method as follows -"
      ]
    },
    {
      "cell_type": "code",
      "metadata": {
        "id": "pDO6WpZpTBGF",
        "colab_type": "code",
        "colab": {
          "base_uri": "https://localhost:8080/",
          "height": 0
        },
        "outputId": "0708887e-36ae-4cd6-98ec-597531653e89"
      },
      "source": [
        "# Create a Tensor with customized values with higher dimensions\n",
        "k = torch.tensor([[1.0, 2.0], [3.0, 4.0], [5.0, 6.0]])\n",
        "\n",
        "print(k)"
      ],
      "execution_count": 18,
      "outputs": [
        {
          "output_type": "stream",
          "text": [
            "tensor([[1., 2.],\n",
            "        [3., 4.],\n",
            "        [5., 6.]])\n"
          ],
          "name": "stdout"
        }
      ]
    },
    {
      "cell_type": "code",
      "metadata": {
        "id": "bgyLLmuzTBGJ",
        "colab_type": "code",
        "colab": {
          "base_uri": "https://localhost:8080/",
          "height": 0
        },
        "outputId": "b76c5388-a86a-4eeb-e349-b1373e2ee9f1"
      },
      "source": [
        "# Print the shape of k\n",
        "print(k.shape)"
      ],
      "execution_count": 19,
      "outputs": [
        {
          "output_type": "stream",
          "text": [
            "torch.Size([3, 2])\n"
          ],
          "name": "stdout"
        }
      ]
    },
    {
      "cell_type": "markdown",
      "metadata": {
        "id": "JIyfCmJBTBGO",
        "colab_type": "text"
      },
      "source": [
        "- We can see that k has dimensions (3,2)."
      ]
    },
    {
      "cell_type": "code",
      "metadata": {
        "id": "tjQlxZBJTBGP",
        "colab_type": "code",
        "colab": {
          "base_uri": "https://localhost:8080/",
          "height": 0
        },
        "outputId": "05fa9963-758b-4e45-ccd7-ec912d27589b"
      },
      "source": [
        "# Create a Tensor with ones with higher dimensions\n",
        "l = torch.ones(3,2)\n",
        "\n",
        "# Print the shape of f\n",
        "print(l.shape)"
      ],
      "execution_count": 20,
      "outputs": [
        {
          "output_type": "stream",
          "text": [
            "torch.Size([3, 2])\n"
          ],
          "name": "stdout"
        }
      ]
    },
    {
      "cell_type": "code",
      "metadata": {
        "id": "_gqajXiRTBGV",
        "colab_type": "code",
        "colab": {
          "base_uri": "https://localhost:8080/",
          "height": 0
        },
        "outputId": "ba187f01-5d45-47a9-9861-6f09e55ceff4"
      },
      "source": [
        "# Create a 3D Tensor\n",
        "m = torch.tensor([[[1.0, 2.0], [3.0, 4.0]], [[5.0, 6.0], [7.0, 8.0]]])\n",
        "\n",
        "# Print the shape of m\n",
        "print(m.shape)\n"
      ],
      "execution_count": 21,
      "outputs": [
        {
          "output_type": "stream",
          "text": [
            "torch.Size([2, 2, 2])\n"
          ],
          "name": "stdout"
        }
      ]
    },
    {
      "cell_type": "markdown",
      "metadata": {
        "id": "MoJAhtBsTBGY",
        "colab_type": "text"
      },
      "source": [
        "# **6. Access elements in Tensor** <a class=\"anchor\" id=\"6\"></a>\n",
        "\n",
        "[Table of Contents](#0.1)\n",
        "\n",
        "### **Access elements of 1D Tensor**\n",
        "\n",
        "- Now we know how to create tensors, \n",
        "\n",
        "- Let’s see how we can access an element in a Tensor. \n",
        "\n",
        "- First let’s see how to do this for 1D Tensor or a vector."
      ]
    },
    {
      "cell_type": "code",
      "metadata": {
        "id": "Nb4qp45QTBGZ",
        "colab_type": "code",
        "colab": {
          "base_uri": "https://localhost:8080/",
          "height": 0
        },
        "outputId": "833b04fe-b07a-4251-ea00-80a137bfd7c2"
      },
      "source": [
        "# Create a Tensor with custom values\n",
        "n = torch.tensor([1.0, 2.0, 3.0, 4.0, 5.0])\n",
        "\n",
        "# Get element at index 2\n",
        "print(n[2])"
      ],
      "execution_count": 22,
      "outputs": [
        {
          "output_type": "stream",
          "text": [
            "tensor(3.)\n"
          ],
          "name": "stdout"
        }
      ]
    },
    {
      "cell_type": "markdown",
      "metadata": {
        "id": "P3LfLd9JTBGd",
        "colab_type": "text"
      },
      "source": [
        "### **Access elements of 2D Tensor**\n",
        "\n",
        "- To access one particular element in a tensor, we will need to specify indices equal to the dimension of the tensor. \n",
        "- So for tensor n we only had to specify one index as in the above case.\n",
        "- But, for tensor o we need to specify two indices as in the below case. "
      ]
    },
    {
      "cell_type": "code",
      "metadata": {
        "id": "IyLzsIcQTBGe",
        "colab_type": "code",
        "colab": {
          "base_uri": "https://localhost:8080/",
          "height": 0
        },
        "outputId": "8353d7ad-d88c-4251-9c26-74c1bf3add8a"
      },
      "source": [
        "# All indices starting from 0\n",
        "\n",
        "# Create a Tensor with customized values with higher dimensions\n",
        "o = torch.tensor([[1.0, 2.0], [3.0, 4.0]])\n",
        "\n",
        "# Get element at row 1, column 0\n",
        "print(o[1,0])"
      ],
      "execution_count": 23,
      "outputs": [
        {
          "output_type": "stream",
          "text": [
            "tensor(3.)\n"
          ],
          "name": "stdout"
        }
      ]
    },
    {
      "cell_type": "markdown",
      "metadata": {
        "id": "HUsSiWKoTBGi",
        "colab_type": "text"
      },
      "source": [
        "- We can define the two indices separately as follows-"
      ]
    },
    {
      "cell_type": "code",
      "metadata": {
        "id": "O7q5XrziTBGk",
        "colab_type": "code",
        "colab": {
          "base_uri": "https://localhost:8080/",
          "height": 0
        },
        "outputId": "a13cead5-dfbb-4343-b277-068b52fe4213"
      },
      "source": [
        "# We can also use the following\n",
        "print(o[1][0])"
      ],
      "execution_count": 24,
      "outputs": [
        {
          "output_type": "stream",
          "text": [
            "tensor(3.)\n"
          ],
          "name": "stdout"
        }
      ]
    },
    {
      "cell_type": "markdown",
      "metadata": {
        "id": "gawgHW42TBGq",
        "colab_type": "text"
      },
      "source": [
        "### **Access elements of 3D Tensor**\n",
        "\n",
        "- We can access elements of 3D Tensor as follows:-"
      ]
    },
    {
      "cell_type": "code",
      "metadata": {
        "id": "fnauuczoTBGr",
        "colab_type": "code",
        "colab": {
          "base_uri": "https://localhost:8080/",
          "height": 0
        },
        "outputId": "471fe491-c5d5-4352-a2af-e5864f383d59"
      },
      "source": [
        "# Create a 3D Tensor\n",
        "p = torch.tensor([[[1.0, 2.0], [3.0, 4.0]], [[5.0, 6.0], [7.0, 8.0]]])\n",
        "\n",
        "# Access elements at (1,0,0) position\n",
        "print(p[1,0,0])"
      ],
      "execution_count": 25,
      "outputs": [
        {
          "output_type": "stream",
          "text": [
            "tensor(5.)\n"
          ],
          "name": "stdout"
        }
      ]
    },
    {
      "cell_type": "code",
      "metadata": {
        "id": "fpIy_JpKTBGv",
        "colab_type": "code",
        "colab": {
          "base_uri": "https://localhost:8080/",
          "height": 0
        },
        "outputId": "874f081b-0df4-45ba-c351-1786c66fdaac"
      },
      "source": [
        "# We can access the same element at (1,0,0) position as follows -\n",
        "print(p[1][0][0])"
      ],
      "execution_count": 26,
      "outputs": [
        {
          "output_type": "stream",
          "text": [
            "tensor(5.)\n"
          ],
          "name": "stdout"
        }
      ]
    },
    {
      "cell_type": "markdown",
      "metadata": {
        "id": "jBaSOHFCTBGz",
        "colab_type": "text"
      },
      "source": [
        "### **Access one entire row in a 2D Tensor**"
      ]
    },
    {
      "cell_type": "code",
      "metadata": {
        "id": "IgnifPNATBG1",
        "colab_type": "code",
        "colab": {
          "base_uri": "https://localhost:8080/",
          "height": 0
        },
        "outputId": "25af760c-067e-4df2-f854-fd52cd80b437"
      },
      "source": [
        "# Create a Tensor q\n",
        "q = torch.tensor([[1.0, 2.0], [3.0, 4.0]])\n",
        "\n",
        "# print all elements of q\n",
        "print(q[:])"
      ],
      "execution_count": 27,
      "outputs": [
        {
          "output_type": "stream",
          "text": [
            "tensor([[1., 2.],\n",
            "        [3., 4.]])\n"
          ],
          "name": "stdout"
        }
      ]
    },
    {
      "cell_type": "code",
      "metadata": {
        "id": "WbzSuJ0hTBG4",
        "colab_type": "code",
        "colab": {
          "base_uri": "https://localhost:8080/",
          "height": 0
        },
        "outputId": "e5274fc7-5d12-41f5-d007-84085a4e7e0c"
      },
      "source": [
        "# access first row of q\n",
        "print(q[0,:])"
      ],
      "execution_count": 28,
      "outputs": [
        {
          "output_type": "stream",
          "text": [
            "tensor([1., 2.])\n"
          ],
          "name": "stdout"
        }
      ]
    },
    {
      "cell_type": "code",
      "metadata": {
        "id": "u2VGjtFMTBG7",
        "colab_type": "code",
        "colab": {
          "base_uri": "https://localhost:8080/",
          "height": 0
        },
        "outputId": "93b502f9-6e54-4d08-f3ae-966906da6aa4"
      },
      "source": [
        "# access second column of q\n",
        "print(q[:,1])"
      ],
      "execution_count": 29,
      "outputs": [
        {
          "output_type": "stream",
          "text": [
            "tensor([2., 4.])\n"
          ],
          "name": "stdout"
        }
      ]
    },
    {
      "cell_type": "code",
      "metadata": {
        "id": "cYpeb7sJTBHA",
        "colab_type": "code",
        "colab": {
          "base_uri": "https://localhost:8080/",
          "height": 0
        },
        "outputId": "6a613290-3e50-4459-b05c-dee3b6403e21"
      },
      "source": [
        "# create a Tensor r\n",
        "r = torch.tensor([1.0, 2.0, 3.0, 4.0, 5.0])\n",
        "\n",
        "# all elements from index 1 to 2 (inclusive)\n",
        "print(r[1:3])"
      ],
      "execution_count": 30,
      "outputs": [
        {
          "output_type": "stream",
          "text": [
            "tensor([2., 3.])\n"
          ],
          "name": "stdout"
        }
      ]
    },
    {
      "cell_type": "code",
      "metadata": {
        "id": "2oQs3JibTBHE",
        "colab_type": "code",
        "colab": {
          "base_uri": "https://localhost:8080/",
          "height": 0
        },
        "outputId": "9fa51b54-41a8-4e26-cfc5-08cdcdd1ddad"
      },
      "source": [
        "# all elements till index 4 (exclusive)\n",
        "print(r[:4])"
      ],
      "execution_count": 31,
      "outputs": [
        {
          "output_type": "stream",
          "text": [
            "tensor([1., 2., 3., 4.])\n"
          ],
          "name": "stdout"
        }
      ]
    },
    {
      "cell_type": "markdown",
      "metadata": {
        "id": "Mn7YgLycTBHI",
        "colab_type": "text"
      },
      "source": [
        "# **7. Specify data types of elements** <a class=\"anchor\" id=\"7\"></a>\n",
        "\n",
        "[Table of Contents](#0.1)\n",
        "\n",
        "\n",
        "- Whenever we create a tensor, PyTorch decides the data type of the elements of the tensor such that the data type can cover all the elements of the tensor. \n",
        "\n",
        "- We can override this by specifying the data type while creating the tensor."
      ]
    },
    {
      "cell_type": "code",
      "metadata": {
        "id": "o4G6XQq_TBHJ",
        "colab_type": "code",
        "colab": {
          "base_uri": "https://localhost:8080/",
          "height": 0
        },
        "outputId": "7837c2d6-91c0-445b-852a-2916e6641e33"
      },
      "source": [
        "int_tensor = torch.tensor([[1,2,3],[4,5,6]])\n",
        "print(int_tensor.dtype)"
      ],
      "execution_count": 32,
      "outputs": [
        {
          "output_type": "stream",
          "text": [
            "torch.int64\n"
          ],
          "name": "stdout"
        }
      ]
    },
    {
      "cell_type": "code",
      "metadata": {
        "id": "gXfT4V0tTBHO",
        "colab_type": "code",
        "colab": {
          "base_uri": "https://localhost:8080/",
          "height": 0
        },
        "outputId": "79e7356d-58c2-4fea-8f6c-479cd84582aa"
      },
      "source": [
        "# data type if we change any one element to floating point number\n",
        "int_tensor = torch.tensor([[1,2,3],[4.,5,6]])\n",
        "print(int_tensor.dtype)"
      ],
      "execution_count": 33,
      "outputs": [
        {
          "output_type": "stream",
          "text": [
            "torch.float32\n"
          ],
          "name": "stdout"
        }
      ]
    },
    {
      "cell_type": "code",
      "metadata": {
        "id": "8vUtCV-2TBHZ",
        "colab_type": "code",
        "colab": {
          "base_uri": "https://localhost:8080/",
          "height": 0
        },
        "outputId": "f549692b-fc89-4522-8fb5-b4049af2486c"
      },
      "source": [
        "print(int_tensor)"
      ],
      "execution_count": 34,
      "outputs": [
        {
          "output_type": "stream",
          "text": [
            "tensor([[1., 2., 3.],\n",
            "        [4., 5., 6.]])\n"
          ],
          "name": "stdout"
        }
      ]
    },
    {
      "cell_type": "code",
      "metadata": {
        "id": "N6qL5t2rTBHe",
        "colab_type": "code",
        "colab": {
          "base_uri": "https://localhost:8080/",
          "height": 0
        },
        "outputId": "8604c1a6-4d6b-4b8c-b4fd-4ec781296b0e"
      },
      "source": [
        "# This can be overridden as follows\n",
        "int_tensor = torch.tensor([[1,2,3],[4.,5,6]], dtype=torch.int32)\n",
        "print(int_tensor.dtype)"
      ],
      "execution_count": 35,
      "outputs": [
        {
          "output_type": "stream",
          "text": [
            "torch.int32\n"
          ],
          "name": "stdout"
        }
      ]
    },
    {
      "cell_type": "code",
      "metadata": {
        "id": "aPr3mLttTBHl",
        "colab_type": "code",
        "colab": {
          "base_uri": "https://localhost:8080/",
          "height": 0
        },
        "outputId": "26338a90-9caf-47ba-bc32-7bb7c62e9be9"
      },
      "source": [
        "print(int_tensor)"
      ],
      "execution_count": 36,
      "outputs": [
        {
          "output_type": "stream",
          "text": [
            "tensor([[1, 2, 3],\n",
            "        [4, 5, 6]], dtype=torch.int32)\n"
          ],
          "name": "stdout"
        }
      ]
    },
    {
      "cell_type": "markdown",
      "metadata": {
        "id": "ahiDjWKSTBHt",
        "colab_type": "text"
      },
      "source": [
        "# **8. Tensor to/from NumPy Array** <a class=\"anchor\" id=\"8\"></a>\n",
        "\n",
        "[Table of Contents](#0.1)\n",
        "\n",
        "\n",
        "- PyTorch Tensors and NumPy arrays are very similar. \n",
        "- So, it is possible to convert one data structure into another. \n",
        "- We can do it as follows -"
      ]
    },
    {
      "cell_type": "code",
      "metadata": {
        "id": "bTjdQtWJTBHu",
        "colab_type": "code",
        "colab": {
          "base_uri": "https://localhost:8080/",
          "height": 0
        },
        "outputId": "5ad4710a-83b7-41fa-c27c-f402c6a0e758"
      },
      "source": [
        "# import NumPy\n",
        "import numpy as np\n",
        "\n",
        "# create a tensor s\n",
        "s = torch.tensor([[1.0, 2.0], [3.0, 4.0]])\n",
        " \n",
        "# convert tensor to numpy array\n",
        "s_numpy = s.numpy()\n",
        "print(s_numpy)"
      ],
      "execution_count": 37,
      "outputs": [
        {
          "output_type": "stream",
          "text": [
            "[[1. 2.]\n",
            " [3. 4.]]\n"
          ],
          "name": "stdout"
        }
      ]
    },
    {
      "cell_type": "code",
      "metadata": {
        "id": "j9yJn2_hTBHz",
        "colab_type": "code",
        "colab": {
          "base_uri": "https://localhost:8080/",
          "height": 0
        },
        "outputId": "0fb4a333-8518-4ad9-b46c-84f396b826b6"
      },
      "source": [
        "# convert numpy array to tensor\n",
        "t = np.array([[8,7,6,5],[4,3,2,1]])\n",
        "t_tensor = torch.from_numpy(t)\n",
        "print(t_tensor)\n",
        " "
      ],
      "execution_count": 38,
      "outputs": [
        {
          "output_type": "stream",
          "text": [
            "tensor([[8, 7, 6, 5],\n",
            "        [4, 3, 2, 1]])\n"
          ],
          "name": "stdout"
        }
      ]
    },
    {
      "cell_type": "markdown",
      "metadata": {
        "id": "ZO7qJk6jTBH5",
        "colab_type": "text"
      },
      "source": [
        "# **9. Random Sampling of Tensors** <a class=\"anchor\" id=\"9\"></a>\n",
        "\n",
        "[Table of Contents](#0.1)\n",
        "\n",
        "\n",
        "- The deep learning task requires reproducing the same set of results to maintain consistency. \n",
        "- In such a case, manual seed needs to be set as follows -\n"
      ]
    },
    {
      "cell_type": "code",
      "metadata": {
        "id": "bYL-PiU8TBH5",
        "colab_type": "code",
        "colab": {
          "base_uri": "https://localhost:8080/",
          "height": 0
        },
        "outputId": "1c4177bc-bb13-4254-e620-2c7561aef98a"
      },
      "source": [
        "import torch\n",
        "\n",
        "torch.manual_seed(1234)"
      ],
      "execution_count": 39,
      "outputs": [
        {
          "output_type": "execute_result",
          "data": {
            "text/plain": [
              "<torch._C.Generator at 0x7f8a64303a50>"
            ]
          },
          "metadata": {
            "tags": []
          },
          "execution_count": 39
        }
      ]
    },
    {
      "cell_type": "code",
      "metadata": {
        "id": "TJ9iHwa-TBH_",
        "colab_type": "code",
        "colab": {
          "base_uri": "https://localhost:8080/",
          "height": 0
        },
        "outputId": "f245250c-8e3d-4139-9cf2-3c945f1c59bc"
      },
      "source": [
        "torch.manual_seed(1234)\n",
        "\n",
        "u = torch.randn(4,4)\n",
        "\n",
        "u"
      ],
      "execution_count": 40,
      "outputs": [
        {
          "output_type": "execute_result",
          "data": {
            "text/plain": [
              "tensor([[-0.1117, -0.4966,  0.1631, -0.8817],\n",
              "        [ 0.0539,  0.6684, -0.0597, -0.4675],\n",
              "        [-0.2153,  0.8840, -0.7584, -0.3689],\n",
              "        [-0.3424, -1.4020,  0.3206, -1.0219]])"
            ]
          },
          "metadata": {
            "tags": []
          },
          "execution_count": 40
        }
      ]
    },
    {
      "cell_type": "markdown",
      "metadata": {
        "id": "fyM2yfM0TBIC",
        "colab_type": "text"
      },
      "source": [
        "- Now, everytime `u` produce the same result."
      ]
    },
    {
      "cell_type": "code",
      "metadata": {
        "id": "sn37bJN7TBID",
        "colab_type": "code",
        "colab": {
          "base_uri": "https://localhost:8080/",
          "height": 0
        },
        "outputId": "20299e9b-2484-419a-84db-9237ea0d070c"
      },
      "source": [
        "u"
      ],
      "execution_count": 41,
      "outputs": [
        {
          "output_type": "execute_result",
          "data": {
            "text/plain": [
              "tensor([[-0.1117, -0.4966,  0.1631, -0.8817],\n",
              "        [ 0.0539,  0.6684, -0.0597, -0.4675],\n",
              "        [-0.2153,  0.8840, -0.7584, -0.3689],\n",
              "        [-0.3424, -1.4020,  0.3206, -1.0219]])"
            ]
          },
          "metadata": {
            "tags": []
          },
          "execution_count": 41
        }
      ]
    },
    {
      "cell_type": "markdown",
      "metadata": {
        "id": "6SHpFSOtTBIG",
        "colab_type": "text"
      },
      "source": [
        "- The seed value can be customized. \n",
        "- The random number is generated purely by chance. \n",
        "- Random numbers can also be generated from a statistical distribution."
      ]
    },
    {
      "cell_type": "markdown",
      "metadata": {
        "id": "RhDxjVRxTBIH",
        "colab_type": "text"
      },
      "source": [
        "### **Random Sampling from Uniform Distribution**\n",
        "\n",
        "- In a continuous uniform distribution, each number has an equal chance of being selected. \n",
        "- Random sampling from a uniform distribution can be done as follows.\n",
        "- In the following example, the start is 0 and the end is 1 and between those two digits, all 16 elements are selected."
      ]
    },
    {
      "cell_type": "code",
      "metadata": {
        "id": "gBRRXPqJTBII",
        "colab_type": "code",
        "colab": {
          "base_uri": "https://localhost:8080/",
          "height": 0
        },
        "outputId": "7492d407-89ac-4cd8-c989-1b062b15a966"
      },
      "source": [
        "# random sampling from uniform distribution\n",
        "torch.Tensor(4,4).uniform_(0,1)"
      ],
      "execution_count": 42,
      "outputs": [
        {
          "output_type": "execute_result",
          "data": {
            "text/plain": [
              "tensor([[0.2837, 0.6567, 0.2388, 0.7313],\n",
              "        [0.6012, 0.3043, 0.2548, 0.6294],\n",
              "        [0.9665, 0.7399, 0.4517, 0.4757],\n",
              "        [0.7842, 0.1525, 0.6662, 0.3343]])"
            ]
          },
          "metadata": {
            "tags": []
          },
          "execution_count": 42
        }
      ]
    },
    {
      "cell_type": "markdown",
      "metadata": {
        "id": "AdlWYKUOTBIO",
        "colab_type": "text"
      },
      "source": [
        "### **Random Sampling from Bernoulli Distribution**\n",
        "\n",
        "- In statistics, the Bernoulli distribution is considered as the discrete probability distribution, which has two possible outcomes. \n",
        "- If the event happens, then the value is 1, and if the event does not happen, then the value is 0.\n",
        "- From the Bernoulli distribution, we create sample tensors by considering the uniform distribution of size 4 and 4 in a matrix format.\n",
        "- Random Sampling from Bernoulli distribution can be done as follows."
      ]
    },
    {
      "cell_type": "code",
      "metadata": {
        "id": "-XuN4C4eTBIR",
        "colab_type": "code",
        "colab": {
          "base_uri": "https://localhost:8080/",
          "height": 0
        },
        "outputId": "d2746010-40e5-48fc-868b-3a2a637b19b1"
      },
      "source": [
        "# random sampling from bernoulli distribution\n",
        "torch.bernoulli(torch.Tensor(4,4).uniform_(0,1))"
      ],
      "execution_count": 43,
      "outputs": [
        {
          "output_type": "execute_result",
          "data": {
            "text/plain": [
              "tensor([[0., 0., 0., 0.],\n",
              "        [1., 0., 1., 0.],\n",
              "        [1., 0., 1., 1.],\n",
              "        [0., 0., 0., 0.]])"
            ]
          },
          "metadata": {
            "tags": []
          },
          "execution_count": 43
        }
      ]
    },
    {
      "cell_type": "markdown",
      "metadata": {
        "id": "-q9q3WrGTBIV",
        "colab_type": "text"
      },
      "source": [
        "### **Random Sampling from Multinomial Distribution**\n",
        "\n",
        "- In a multinomial distribution, we can choose with a replacement or without a replacement.\n",
        "- By default, the multinomial function picks up without a replacement and returns the result as an index position for the tensors."
      ]
    },
    {
      "cell_type": "code",
      "metadata": {
        "id": "jRF5RaeVTBIW",
        "colab_type": "code",
        "colab": {
          "base_uri": "https://localhost:8080/",
          "height": 0
        },
        "outputId": "7c3d96f8-6a68-4de9-d0d7-6e118589d256"
      },
      "source": [
        "torch.Tensor([10,20,30,40,50,60,70,80,90,100,110,120])"
      ],
      "execution_count": 44,
      "outputs": [
        {
          "output_type": "execute_result",
          "data": {
            "text/plain": [
              "tensor([ 10.,  20.,  30.,  40.,  50.,  60.,  70.,  80.,  90., 100., 110., 120.])"
            ]
          },
          "metadata": {
            "tags": []
          },
          "execution_count": 44
        }
      ]
    },
    {
      "cell_type": "code",
      "metadata": {
        "id": "omF8ImbHTBIc",
        "colab_type": "code",
        "colab": {
          "base_uri": "https://localhost:8080/",
          "height": 0
        },
        "outputId": "7b2fb8ce-ef9b-45ff-e2bc-131e4fac9061"
      },
      "source": [
        "torch.multinomial(torch.Tensor([10,20,30,40,\n",
        "                                50,60,70,80,\n",
        "                                90,100,110,120]),\n",
        "                 3)"
      ],
      "execution_count": 45,
      "outputs": [
        {
          "output_type": "execute_result",
          "data": {
            "text/plain": [
              "tensor([10,  7,  5])"
            ]
          },
          "metadata": {
            "tags": []
          },
          "execution_count": 45
        }
      ]
    },
    {
      "cell_type": "markdown",
      "metadata": {
        "id": "lKwqovtpTBIf",
        "colab_type": "text"
      },
      "source": [
        "- Sampling from multinomial distribution with a replacement returns the tensors’ index values.\n",
        "- If we need to run it with a replacement, then we need to specify that while sampling."
      ]
    },
    {
      "cell_type": "code",
      "metadata": {
        "id": "FN6lDDIbTBIg",
        "colab_type": "code",
        "colab": {
          "base_uri": "https://localhost:8080/",
          "height": 0
        },
        "outputId": "18710ae5-5938-4b12-9b52-90eceb4b96c2"
      },
      "source": [
        "torch.multinomial(torch.Tensor([10,20,30,40,\n",
        "                                50,60,70,80,\n",
        "                                90,100,110,120]),\n",
        "                  5, replacement=True)"
      ],
      "execution_count": 46,
      "outputs": [
        {
          "output_type": "execute_result",
          "data": {
            "text/plain": [
              "tensor([11,  3,  4,  8,  6])"
            ]
          },
          "metadata": {
            "tags": []
          },
          "execution_count": 46
        }
      ]
    },
    {
      "cell_type": "markdown",
      "metadata": {
        "id": "JaTRSkYVTBIj",
        "colab_type": "text"
      },
      "source": [
        "### **Random Sampling from Normal Distribution**\n",
        "\n",
        "\n",
        "- The process of creating a set of random numbers generated from a normal distribution is as follows.\n",
        "\n"
      ]
    },
    {
      "cell_type": "code",
      "metadata": {
        "id": "zNQgcyTGTBIk",
        "colab_type": "code",
        "colab": {
          "base_uri": "https://localhost:8080/",
          "height": 0
        },
        "outputId": "e9054938-fff4-4fc3-99b7-69c2a9b75683"
      },
      "source": [
        "torch.normal(mean = torch.arange(1., 11.),\n",
        "             std = torch.arange(1, 0, -0.1))"
      ],
      "execution_count": 47,
      "outputs": [
        {
          "output_type": "execute_result",
          "data": {
            "text/plain": [
              "tensor([-0.0413,  2.0632,  3.4637,  3.9581,  5.1089,  5.6602,  6.8973,  7.4543,\n",
              "         9.0422, 10.0337])"
            ]
          },
          "metadata": {
            "tags": []
          },
          "execution_count": 47
        }
      ]
    },
    {
      "cell_type": "code",
      "metadata": {
        "id": "4srGx9imTBIn",
        "colab_type": "code",
        "colab": {
          "base_uri": "https://localhost:8080/",
          "height": 0
        },
        "outputId": "a8e65db1-bde2-4c64-ede5-d90600242356"
      },
      "source": [
        "torch.normal(mean = 0.5,\n",
        "             std = torch.arange(1., 6.))"
      ],
      "execution_count": 48,
      "outputs": [
        {
          "output_type": "execute_result",
          "data": {
            "text/plain": [
              "tensor([ 1.1638,  2.5794,  6.0301,  3.1352, -0.6746])"
            ]
          },
          "metadata": {
            "tags": []
          },
          "execution_count": 48
        }
      ]
    },
    {
      "cell_type": "code",
      "metadata": {
        "id": "ehJGw5hKTBIq",
        "colab_type": "code",
        "colab": {
          "base_uri": "https://localhost:8080/",
          "height": 0
        },
        "outputId": "f1d3a469-4132-4922-f839-0f728f44d5b0"
      },
      "source": [
        "torch.normal(mean = 0.5,\n",
        "             std = torch.arange(0.2,0.6))"
      ],
      "execution_count": 49,
      "outputs": [
        {
          "output_type": "execute_result",
          "data": {
            "text/plain": [
              "tensor([0.4939])"
            ]
          },
          "metadata": {
            "tags": []
          },
          "execution_count": 49
        }
      ]
    },
    {
      "cell_type": "markdown",
      "metadata": {
        "id": "cKehx6-3TBIw",
        "colab_type": "text"
      },
      "source": [
        "# **10. Basic Statistics with Tensors** <a class=\"anchor\" id=\"10\"></a>\n",
        "\n",
        "[Table of Contents](#0.1)\n",
        "\n",
        "\n",
        "- We can compute basic statistics, such as mean, median, mode, and so forth, from a Torch tensor.\n",
        "\n",
        "- Computation of basic statistics using PyTorch enables the user to apply probability distributions and statistical tests to make inferences from data."
      ]
    },
    {
      "cell_type": "markdown",
      "metadata": {
        "id": "g2UnW62MTBIx",
        "colab_type": "text"
      },
      "source": [
        "### **Mean Computation**\n",
        "\n",
        "- The mean computation is simple to write for a 1D tensor.\n",
        "- However, for a 2D tensor, an extra argument needs to be passed as a mean, median, or mode computation, across which the dimension needs to be specified."
      ]
    },
    {
      "cell_type": "code",
      "metadata": {
        "id": "Mh2VpxYsTBIy",
        "colab_type": "code",
        "colab": {
          "base_uri": "https://localhost:8080/",
          "height": 0
        },
        "outputId": "fc96c677-94b9-4c94-f713-a065b855c709"
      },
      "source": [
        "# computing the mean\n",
        "torch.mean(torch.tensor([10., 20., 30., 40., 50.]))"
      ],
      "execution_count": 50,
      "outputs": [
        {
          "output_type": "execute_result",
          "data": {
            "text/plain": [
              "tensor(30.)"
            ]
          },
          "metadata": {
            "tags": []
          },
          "execution_count": 50
        }
      ]
    },
    {
      "cell_type": "code",
      "metadata": {
        "id": "tU4vXrOqTBI1",
        "colab_type": "code",
        "colab": {
          "base_uri": "https://localhost:8080/",
          "height": 0
        },
        "outputId": "373f6bbf-ea0e-4cdd-d808-3dbbea7cdce2"
      },
      "source": [
        "# declare a tensor\n",
        "v = torch.randn(4,5)\n",
        "v"
      ],
      "execution_count": 51,
      "outputs": [
        {
          "output_type": "execute_result",
          "data": {
            "text/plain": [
              "tensor([[ 0.9570, -0.5510,  2.6617,  2.1479,  1.2907],\n",
              "        [ 0.2612, -0.5862, -1.5105, -0.1225,  0.8078],\n",
              "        [-1.1421,  2.0506,  0.5289, -0.5447,  0.8097],\n",
              "        [ 1.1226, -1.6121,  0.4752,  0.5868, -0.2878]])"
            ]
          },
          "metadata": {
            "tags": []
          },
          "execution_count": 51
        }
      ]
    },
    {
      "cell_type": "code",
      "metadata": {
        "id": "YOOmoryYTBI4",
        "colab_type": "code",
        "colab": {
          "base_uri": "https://localhost:8080/",
          "height": 0
        },
        "outputId": "16f6574a-2076-440c-a1e7-8972d5adbfbf"
      },
      "source": [
        "# calculate mean across columns\n",
        "torch.mean(v,dim=0)"
      ],
      "execution_count": 52,
      "outputs": [
        {
          "output_type": "execute_result",
          "data": {
            "text/plain": [
              "tensor([ 0.2997, -0.1746,  0.5388,  0.5169,  0.6551])"
            ]
          },
          "metadata": {
            "tags": []
          },
          "execution_count": 52
        }
      ]
    },
    {
      "cell_type": "code",
      "metadata": {
        "id": "iM3V2so1TBI8",
        "colab_type": "code",
        "colab": {
          "base_uri": "https://localhost:8080/",
          "height": 0
        },
        "outputId": "a99f524e-00fa-4730-9322-2f1fdcf04d6e"
      },
      "source": [
        "# calculate mean across rows\n",
        "torch.mean(v,dim=1)"
      ],
      "execution_count": 53,
      "outputs": [
        {
          "output_type": "execute_result",
          "data": {
            "text/plain": [
              "tensor([ 1.3013, -0.2300,  0.3405,  0.0569])"
            ]
          },
          "metadata": {
            "tags": []
          },
          "execution_count": 53
        }
      ]
    },
    {
      "cell_type": "markdown",
      "metadata": {
        "id": "lBb0e6xfTBI_",
        "colab_type": "text"
      },
      "source": [
        "- Median, mode and standard deviation computation can be written in the same way."
      ]
    },
    {
      "cell_type": "code",
      "metadata": {
        "id": "NVkZC9IdTBJA",
        "colab_type": "code",
        "colab": {
          "base_uri": "https://localhost:8080/",
          "height": 0
        },
        "outputId": "73fcff96-3e27-4d03-db6a-19bfbda5886b"
      },
      "source": [
        "# calculate median across columns\n",
        "torch.median(v,dim=0)"
      ],
      "execution_count": 54,
      "outputs": [
        {
          "output_type": "execute_result",
          "data": {
            "text/plain": [
              "torch.return_types.median(values=tensor([ 0.2612, -0.5862,  0.4752, -0.1225,  0.8078]), indices=tensor([1, 1, 3, 1, 1]))"
            ]
          },
          "metadata": {
            "tags": []
          },
          "execution_count": 54
        }
      ]
    },
    {
      "cell_type": "code",
      "metadata": {
        "id": "Tl56Iaa1TBJI",
        "colab_type": "code",
        "colab": {
          "base_uri": "https://localhost:8080/",
          "height": 0
        },
        "outputId": "b1f3ec06-638a-45f7-90ae-5a68913114fb"
      },
      "source": [
        "# calculate median across rows\n",
        "torch.median(v,dim=1)"
      ],
      "execution_count": 55,
      "outputs": [
        {
          "output_type": "execute_result",
          "data": {
            "text/plain": [
              "torch.return_types.median(values=tensor([ 1.2907, -0.1225,  0.5289,  0.4752]), indices=tensor([4, 3, 2, 2]))"
            ]
          },
          "metadata": {
            "tags": []
          },
          "execution_count": 55
        }
      ]
    },
    {
      "cell_type": "code",
      "metadata": {
        "id": "7M3xi25-TBJL",
        "colab_type": "code",
        "colab": {
          "base_uri": "https://localhost:8080/",
          "height": 0
        },
        "outputId": "83097970-d734-497a-ac33-856066f6bc0c"
      },
      "source": [
        "# compute mode\n",
        "torch.mode(v)"
      ],
      "execution_count": 56,
      "outputs": [
        {
          "output_type": "execute_result",
          "data": {
            "text/plain": [
              "torch.return_types.mode(values=tensor([-0.5510, -1.5105, -1.1421, -1.6121]), indices=tensor([1, 2, 0, 1]))"
            ]
          },
          "metadata": {
            "tags": []
          },
          "execution_count": 56
        }
      ]
    },
    {
      "cell_type": "code",
      "metadata": {
        "id": "R-mlexUnTBJR",
        "colab_type": "code",
        "colab": {
          "base_uri": "https://localhost:8080/",
          "height": 0
        },
        "outputId": "f83ed6f5-acc3-443b-cd3c-fcfdf8b24c92"
      },
      "source": [
        "# compute mode across rows\n",
        "torch.mode(v,dim=0)"
      ],
      "execution_count": 57,
      "outputs": [
        {
          "output_type": "execute_result",
          "data": {
            "text/plain": [
              "torch.return_types.mode(values=tensor([-1.1421, -1.6121, -1.5105, -0.5447, -0.2878]), indices=tensor([2, 3, 1, 2, 3]))"
            ]
          },
          "metadata": {
            "tags": []
          },
          "execution_count": 57
        }
      ]
    },
    {
      "cell_type": "code",
      "metadata": {
        "id": "UsSkoEJoTBJU",
        "colab_type": "code",
        "colab": {
          "base_uri": "https://localhost:8080/",
          "height": 0
        },
        "outputId": "f767d298-1edd-4128-ebce-d5d8142bf60b"
      },
      "source": [
        "# compute mode across columns\n",
        "torch.mode(v,dim=1)"
      ],
      "execution_count": 58,
      "outputs": [
        {
          "output_type": "execute_result",
          "data": {
            "text/plain": [
              "torch.return_types.mode(values=tensor([-0.5510, -1.5105, -1.1421, -1.6121]), indices=tensor([1, 2, 0, 1]))"
            ]
          },
          "metadata": {
            "tags": []
          },
          "execution_count": 58
        }
      ]
    },
    {
      "cell_type": "markdown",
      "metadata": {
        "id": "VMOPMK_iTBJX",
        "colab_type": "text"
      },
      "source": [
        "### **Compute Standard Deviation**\n",
        "\n",
        "- Standard deviation shows the deviation from the measures of central tendency.\n",
        "- It indicates the consistency of the data/variable. \n",
        "- It shows whether there is enough fluctuation in data or not."
      ]
    },
    {
      "cell_type": "code",
      "metadata": {
        "id": "coOlB_ZsTBJX",
        "colab_type": "code",
        "colab": {
          "base_uri": "https://localhost:8080/",
          "height": 0
        },
        "outputId": "71a95a3a-cf1f-4eeb-8307-641689aa7532"
      },
      "source": [
        "# compute standard deviation\n",
        "torch.std(v)"
      ],
      "execution_count": 59,
      "outputs": [
        {
          "output_type": "execute_result",
          "data": {
            "text/plain": [
              "tensor(1.1810)"
            ]
          },
          "metadata": {
            "tags": []
          },
          "execution_count": 59
        }
      ]
    },
    {
      "cell_type": "code",
      "metadata": {
        "id": "M_vUz5PfTBJb",
        "colab_type": "code",
        "colab": {
          "base_uri": "https://localhost:8080/",
          "height": 0
        },
        "outputId": "80144324-d579-4c3e-f559-1e36e843e1e8"
      },
      "source": [
        "# compute standard deviation across columns\n",
        "torch.std(v,dim=0)"
      ],
      "execution_count": 60,
      "outputs": [
        {
          "output_type": "execute_result",
          "data": {
            "text/plain": [
              "tensor([1.0311, 1.5630, 1.7040, 1.1833, 0.6684])"
            ]
          },
          "metadata": {
            "tags": []
          },
          "execution_count": 60
        }
      ]
    },
    {
      "cell_type": "code",
      "metadata": {
        "id": "us87VbYfTBJf",
        "colab_type": "code",
        "colab": {
          "base_uri": "https://localhost:8080/",
          "height": 0
        },
        "outputId": "21f57582-9f51-43e0-e4ef-1cb7049e3cc0"
      },
      "source": [
        "# compute standard deviation across rows\n",
        "torch.std(v,dim=1)"
      ],
      "execution_count": 61,
      "outputs": [
        {
          "output_type": "execute_result",
          "data": {
            "text/plain": [
              "tensor([1.2366, 0.8799, 1.2412, 1.0601])"
            ]
          },
          "metadata": {
            "tags": []
          },
          "execution_count": 61
        }
      ]
    },
    {
      "cell_type": "markdown",
      "metadata": {
        "id": "DOXDovN3TBJi",
        "colab_type": "text"
      },
      "source": [
        "### **Compute Variance**"
      ]
    },
    {
      "cell_type": "code",
      "metadata": {
        "id": "XeZKEPrTTBJj",
        "colab_type": "code",
        "colab": {
          "base_uri": "https://localhost:8080/",
          "height": 0
        },
        "outputId": "d985a895-d0c9-4a70-9dff-a1f8b8c42622"
      },
      "source": [
        "# compute variance\n",
        "torch.var(v)"
      ],
      "execution_count": 62,
      "outputs": [
        {
          "output_type": "execute_result",
          "data": {
            "text/plain": [
              "tensor(1.3948)"
            ]
          },
          "metadata": {
            "tags": []
          },
          "execution_count": 62
        }
      ]
    },
    {
      "cell_type": "code",
      "metadata": {
        "id": "Y0-eRQP_TBJm",
        "colab_type": "code",
        "colab": {
          "base_uri": "https://localhost:8080/",
          "height": 0
        },
        "outputId": "ff1c5602-3155-450a-8ff8-4b61f6aca97a"
      },
      "source": [
        "# compute variance across columns\n",
        "torch.var(v, dim=0)"
      ],
      "execution_count": 63,
      "outputs": [
        {
          "output_type": "execute_result",
          "data": {
            "text/plain": [
              "tensor([1.0632, 2.4430, 2.9035, 1.4003, 0.4467])"
            ]
          },
          "metadata": {
            "tags": []
          },
          "execution_count": 63
        }
      ]
    },
    {
      "cell_type": "code",
      "metadata": {
        "id": "Ij_ef5HgTBJo",
        "colab_type": "code",
        "colab": {
          "base_uri": "https://localhost:8080/",
          "height": 0
        },
        "outputId": "112dac36-71d7-4466-a095-8f345aabdf0d"
      },
      "source": [
        "# compute variance across rows\n",
        "torch.var(v, dim=1)"
      ],
      "execution_count": 64,
      "outputs": [
        {
          "output_type": "execute_result",
          "data": {
            "text/plain": [
              "tensor([1.5293, 0.7741, 1.5405, 1.1239])"
            ]
          },
          "metadata": {
            "tags": []
          },
          "execution_count": 64
        }
      ]
    },
    {
      "cell_type": "markdown",
      "metadata": {
        "id": "DJfuuPOiTBJr",
        "colab_type": "text"
      },
      "source": [
        "# **11. Arithmetic Operations on Tensors** <a class=\"anchor\" id=\"11\"></a>\n",
        "\n",
        "\n",
        "[Table of Contents](#0.1)\n",
        "\n",
        "- Now, we will see how to perform arithmetic operations on PyTorch tensors.\n"
      ]
    },
    {
      "cell_type": "code",
      "metadata": {
        "id": "Xa8a0NtFTBJt",
        "colab_type": "code",
        "colab": {}
      },
      "source": [
        "# Create two tensors\n",
        "tensor1 = torch.tensor([[1,2,3],[4,5,6]])\n",
        "tensor2 = torch.tensor([[-1,2,-3],[4,-5,6]])"
      ],
      "execution_count": 0,
      "outputs": []
    },
    {
      "cell_type": "code",
      "metadata": {
        "id": "Na732RlsTBJ1",
        "colab_type": "code",
        "colab": {
          "base_uri": "https://localhost:8080/",
          "height": 51
        },
        "outputId": "7b4f3321-76ad-4627-9b26-05ec34dec76e"
      },
      "source": [
        "# Addition\n",
        "print(tensor1+tensor2)"
      ],
      "execution_count": 66,
      "outputs": [
        {
          "output_type": "stream",
          "text": [
            "tensor([[ 0,  4,  0],\n",
            "        [ 8,  0, 12]])\n"
          ],
          "name": "stdout"
        }
      ]
    },
    {
      "cell_type": "code",
      "metadata": {
        "id": "R3Q2dZhcTBJ5",
        "colab_type": "code",
        "colab": {
          "base_uri": "https://localhost:8080/",
          "height": 51
        },
        "outputId": "b22a2974-c3d4-4bed-9115-aaee51f2d0e0"
      },
      "source": [
        "# We can also use\n",
        "print(torch.add(tensor1,tensor2))"
      ],
      "execution_count": 67,
      "outputs": [
        {
          "output_type": "stream",
          "text": [
            "tensor([[ 0,  4,  0],\n",
            "        [ 8,  0, 12]])\n"
          ],
          "name": "stdout"
        }
      ]
    },
    {
      "cell_type": "code",
      "metadata": {
        "id": "OHHhK8UqTBJ8",
        "colab_type": "code",
        "colab": {
          "base_uri": "https://localhost:8080/",
          "height": 51
        },
        "outputId": "aaa3de34-0751-4c37-fff5-1f82baadc82d"
      },
      "source": [
        "# Subtraction\n",
        "print(tensor1-tensor2)"
      ],
      "execution_count": 68,
      "outputs": [
        {
          "output_type": "stream",
          "text": [
            "tensor([[ 2,  0,  6],\n",
            "        [ 0, 10,  0]])\n"
          ],
          "name": "stdout"
        }
      ]
    },
    {
      "cell_type": "code",
      "metadata": {
        "id": "eTgWPDY1TBKA",
        "colab_type": "code",
        "colab": {
          "base_uri": "https://localhost:8080/",
          "height": 51
        },
        "outputId": "9b481d66-63c9-48d0-851e-6a82347c4fa8"
      },
      "source": [
        "# We can also use\n",
        "print(torch.sub(tensor1,tensor2))"
      ],
      "execution_count": 69,
      "outputs": [
        {
          "output_type": "stream",
          "text": [
            "tensor([[ 2,  0,  6],\n",
            "        [ 0, 10,  0]])\n"
          ],
          "name": "stdout"
        }
      ]
    },
    {
      "cell_type": "code",
      "metadata": {
        "id": "pFoEBcbrTBKE",
        "colab_type": "code",
        "colab": {
          "base_uri": "https://localhost:8080/",
          "height": 51
        },
        "outputId": "4e490d09-ab3c-4f74-bf27-850841562824"
      },
      "source": [
        "# Multiplication\n",
        "# Tensor with Scalar\n",
        "print(tensor1 * 2)"
      ],
      "execution_count": 70,
      "outputs": [
        {
          "output_type": "stream",
          "text": [
            "tensor([[ 2,  4,  6],\n",
            "        [ 8, 10, 12]])\n"
          ],
          "name": "stdout"
        }
      ]
    },
    {
      "cell_type": "code",
      "metadata": {
        "id": "saSJWviITBKG",
        "colab_type": "code",
        "colab": {
          "base_uri": "https://localhost:8080/",
          "height": 51
        },
        "outputId": "bcdf8cd9-d9a8-4869-f3c2-5aec53fa0a00"
      },
      "source": [
        "# Tensor with another tensor\n",
        "# Elementwise Multiplication\n",
        "print(tensor1 * tensor2)"
      ],
      "execution_count": 71,
      "outputs": [
        {
          "output_type": "stream",
          "text": [
            "tensor([[ -1,   4,  -9],\n",
            "        [ 16, -25,  36]])\n"
          ],
          "name": "stdout"
        }
      ]
    },
    {
      "cell_type": "code",
      "metadata": {
        "id": "ug9xTcuWTBKI",
        "colab_type": "code",
        "colab": {
          "base_uri": "https://localhost:8080/",
          "height": 51
        },
        "outputId": "0ce15866-432a-4e67-bd52-dac76261d29e"
      },
      "source": [
        "# Matrix multiplication\n",
        "tensor3 = torch.tensor([[1,2],[3,4],[5,6]])\n",
        "print(torch.mm(tensor1,tensor3))"
      ],
      "execution_count": 72,
      "outputs": [
        {
          "output_type": "stream",
          "text": [
            "tensor([[22, 28],\n",
            "        [49, 64]])\n"
          ],
          "name": "stdout"
        }
      ]
    },
    {
      "cell_type": "code",
      "metadata": {
        "id": "zhmUxv5lTBKK",
        "colab_type": "code",
        "colab": {
          "base_uri": "https://localhost:8080/",
          "height": 51
        },
        "outputId": "d6ac40ac-8c03-4d71-da23-6aa64b21ab5b"
      },
      "source": [
        "# Division\n",
        "# Tensor with scalar\n",
        "print(tensor1/2)"
      ],
      "execution_count": 73,
      "outputs": [
        {
          "output_type": "stream",
          "text": [
            "tensor([[0, 1, 1],\n",
            "        [2, 2, 3]])\n"
          ],
          "name": "stdout"
        }
      ]
    },
    {
      "cell_type": "code",
      "metadata": {
        "id": "G87jETylTBKN",
        "colab_type": "code",
        "colab": {
          "base_uri": "https://localhost:8080/",
          "height": 51
        },
        "outputId": "63c1beaf-608a-4945-9b0e-434590561e1d"
      },
      "source": [
        "# Tensor with another tensor\n",
        "# Elementwise division\n",
        "print(tensor1/tensor2)"
      ],
      "execution_count": 74,
      "outputs": [
        {
          "output_type": "stream",
          "text": [
            "tensor([[-1,  1, -1],\n",
            "        [ 1, -1,  1]])\n"
          ],
          "name": "stdout"
        }
      ]
    },
    {
      "cell_type": "markdown",
      "metadata": {
        "id": "aKqj7UfWTBKP",
        "colab_type": "text"
      },
      "source": [
        "# **12. CPU v/s GPU Tensor** <a class=\"anchor\" id=\"12\"></a>\n",
        "\n",
        "[Table of Contents](#0.1)\n",
        "\n",
        "\n",
        "- PyTorch has different implementation of Tensor for CPU and GPU. \n",
        "- Every tensor can be converted to GPU in order to perform massively parallel, fast computations. \n",
        "- All operations that will be performed on the tensor will be carried out using GPU-specific routines that come with PyTorch.\n",
        "- We will first see how to create a tensor for GPU."
      ]
    },
    {
      "cell_type": "code",
      "metadata": {
        "id": "iXa9kVHgTBKQ",
        "colab_type": "code",
        "colab": {}
      },
      "source": [
        "# Create a tensor for CPU\n",
        "# This will occupy CPU RAM\n",
        "tensor_cpu = torch.tensor([[1.0, 2.0], [3.0, 4.0], [5.0, 6.0]], device='cpu')"
      ],
      "execution_count": 0,
      "outputs": []
    },
    {
      "cell_type": "code",
      "metadata": {
        "id": "DA3ONySRTBKT",
        "colab_type": "code",
        "colab": {}
      },
      "source": [
        "# Create a tensor for GPU\n",
        "# This will occupy GPU RAM\n",
        "tensor_gpu = torch.tensor([[1.0, 2.0], [3.0, 4.0], [5.0, 6.0]], device='cuda')"
      ],
      "execution_count": 0,
      "outputs": []
    },
    {
      "cell_type": "markdown",
      "metadata": {
        "id": "bESE4FZBTBKX",
        "colab_type": "text"
      },
      "source": [
        "- Just like tensor creation, the operations performed for CPU and GPU tensors are also different and consume RAM corresponding to the device specified."
      ]
    },
    {
      "cell_type": "code",
      "metadata": {
        "id": "4rlOZDFrTBKX",
        "colab_type": "code",
        "colab": {}
      },
      "source": [
        "# This uses CPU RAM\n",
        "tensor_cpu = tensor_cpu * 5 "
      ],
      "execution_count": 0,
      "outputs": []
    },
    {
      "cell_type": "code",
      "metadata": {
        "id": "C5MAuu1GTBKc",
        "colab_type": "code",
        "colab": {}
      },
      "source": [
        "# This uses GPU RAM\n",
        "# Focus on GPU RAM Consumption\n",
        "tensor_gpu = tensor_gpu * 5"
      ],
      "execution_count": 0,
      "outputs": []
    },
    {
      "cell_type": "markdown",
      "metadata": {
        "id": "pQ_Nq0mtTBKe",
        "colab_type": "text"
      },
      "source": [
        "- The key point to note here is that no information flows to CPU in the GPU tensor operations (except if we print or access the tensor).\n",
        "\n",
        "- We can move the GPU tensor to CPU and vice versa as shown below."
      ]
    },
    {
      "cell_type": "code",
      "metadata": {
        "id": "7P9l8B6bTBKf",
        "colab_type": "code",
        "colab": {}
      },
      "source": [
        "# Move GPU tensor to CPU\n",
        "tensor_gpu_cpu = tensor_gpu.to(device='cpu')"
      ],
      "execution_count": 0,
      "outputs": []
    },
    {
      "cell_type": "code",
      "metadata": {
        "id": "lTotqn6uTBKk",
        "colab_type": "code",
        "colab": {}
      },
      "source": [
        "# Move CPU tensor to GPU\n",
        "tensor_cpu_gpu = tensor_cpu.to(device='cuda')"
      ],
      "execution_count": 0,
      "outputs": []
    },
    {
      "cell_type": "markdown",
      "metadata": {
        "id": "PoQt3smgTBKn",
        "colab_type": "text"
      },
      "source": [
        "[Go to Top](#0)"
      ]
    }
  ]
}