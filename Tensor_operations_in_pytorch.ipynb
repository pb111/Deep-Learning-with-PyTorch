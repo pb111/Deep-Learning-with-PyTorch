{
  "nbformat": 4,
  "nbformat_minor": 0,
  "metadata": {
    "kernelspec": {
      "name": "python3",
      "display_name": "Python 3"
    },
    "language_info": {
      "codemirror_mode": {
        "name": "ipython",
        "version": 3
      },
      "file_extension": ".py",
      "mimetype": "text/x-python",
      "name": "python",
      "nbconvert_exporter": "python",
      "pygments_lexer": "ipython3",
      "version": "3.6.6"
    },
    "colab": {
      "name": "Tensor-operations-in-pytorch.ipynb",
      "provenance": [],
      "include_colab_link": true
    },
    "accelerator": "GPU"
  },
  "cells": [
    {
      "cell_type": "markdown",
      "metadata": {
        "id": "view-in-github",
        "colab_type": "text"
      },
      "source": [
        "<a href=\"https://colab.research.google.com/github/pb111/Deep-Learning-with-PyTorch/blob/master/Tensor_operations_in_pytorch.ipynb\" target=\"_parent\"><img src=\"https://colab.research.google.com/assets/colab-badge.svg\" alt=\"Open In Colab\"/></a>"
      ]
    },
    {
      "cell_type": "markdown",
      "metadata": {
        "id": "3hFtOd_uTBEJ",
        "colab_type": "text"
      },
      "source": [
        "# **Tensor Operations in PyTorch**\n",
        "\n",
        "\n",
        "In this notebook, I will discuss Tensor Operations in PyTorch. Tensors are the basic building blocks of PyTorch library. The data structure used in PyTorch is graph based and tensor based. Therefore, it is important to understand basic operations and defining tensors.\n"
      ]
    },
    {
      "cell_type": "markdown",
      "metadata": {
        "id": "BP5QceiUTBEP",
        "colab_type": "text"
      },
      "source": [
        "# **Table of Contents**\n",
        "\n",
        "\n",
        "1.\tIntroduction to Tensors\n",
        "2.\tCheck for Tensor Object]\n",
        "3.\tCreate Tensors\n",
        "4.\tDiagonal Matrix of Tensors\n",
        "5.\tShape of the Tensor\n",
        "6.\tAccess elements in Tensor\n",
        "7.\tSpecify data types of elements\n",
        "8.\tTensor to/from NumPy Array\n",
        "9.\tRandom Sampling of Tensors\n",
        "10.\tBasic Statistics with Tensors\n",
        "11.\tArithmetic Operations on Tensors\n",
        "12.\tCPU v/s  GPU Tensor\n",
        "\n"
      ]
    },
    {
      "cell_type": "markdown",
      "metadata": {
        "id": "Omz5o4gsTBER",
        "colab_type": "text"
      },
      "source": [
        "# **1. Introduction to Tensors** \n",
        "\n",
        "\n",
        "- PyTorch uses [Tensor](https://machinelearningmastery.com/introduction-to-tensors-for-machine-learning/) as its core data structure, which is similar to Numpy array. \n",
        "\n",
        "- With appropriate software and hardware available, tensors provide acceleration of various mathematical operations. These operations when carried out in a large number in Deep Learning make a huge difference in speed.\n",
        "\n",
        "- **Tensors** are the core data structure used in PyTorch.\n",
        "\n",
        "- Tensor is a fancy name given to matrices. Familiarity with NumPy arrays will help us to understand PyTorch Tensors. \n",
        "\n",
        "- A scalar value is represented by a 0-dimensional Tensor. Similarly a column/row matrix use a 1-D Tensor and so on. \n",
        "\n",
        "- Some examples of Tensors with different dimensions are shown below to give us a better picture."
      ]
    },
    {
      "cell_type": "markdown",
      "metadata": {
        "id": "vjiZTE8jTBES",
        "colab_type": "text"
      },
      "source": [
        "![PyTorch Tensors](https://www.learnopencv.com/wp-content/uploads/2019/05/PyTorch-Tensors.jpg)"
      ]
    },
    {
      "cell_type": "markdown",
      "metadata": {
        "id": "YgiJZtWVTBEU",
        "colab_type": "text"
      },
      "source": [
        "# **2. Check for Tensor Object** \n",
        "\n",
        "\n",
        "- In this section, we will check whether the created object is a tensor object.\n",
        "\n",
        "- First, we will create a list x and check whether it ia a tensor.\n",
        "\n",
        "- The `is_tensor` function helps to check whether the created object is tensor."
      ]
    },
    {
      "cell_type": "code",
      "metadata": {
        "id": "rbu6t93bTBEV",
        "colab_type": "code",
        "colab": {
          "base_uri": "https://localhost:8080/",
          "height": 34
        },
        "outputId": "7552640e-4fc2-4ca3-a3cf-27be116bd3e7"
      },
      "source": [
        "import torch\n",
        "\n",
        "\n",
        "# define a list x\n",
        "x = [10, 20, 30, 40, 50]\n",
        "\n",
        "\n",
        "# check whether x is tensor object\n",
        "torch.is_tensor(x)\n"
      ],
      "execution_count": 1,
      "outputs": [
        {
          "output_type": "execute_result",
          "data": {
            "text/plain": [
              "False"
            ]
          },
          "metadata": {
            "tags": []
          },
          "execution_count": 1
        }
      ]
    },
    {
      "cell_type": "markdown",
      "metadata": {
        "id": "l0_M2mrbTBEd",
        "colab_type": "text"
      },
      "source": [
        "- The above command shows that x is not tensor."
      ]
    },
    {
      "cell_type": "markdown",
      "metadata": {
        "id": "jraz9Wk4TBEf",
        "colab_type": "text"
      },
      "source": [
        "- The `is_storage` function checks whether the object is stored as tensor object."
      ]
    },
    {
      "cell_type": "code",
      "metadata": {
        "id": "M1eqbVPITBEg",
        "colab_type": "code",
        "colab": {
          "base_uri": "https://localhost:8080/",
          "height": 34
        },
        "outputId": "4846ded1-dc97-4326-9d2e-c563995ef254"
      },
      "source": [
        "# check whether x is stored as tensor object\n",
        "torch.is_storage(x)"
      ],
      "execution_count": 2,
      "outputs": [
        {
          "output_type": "execute_result",
          "data": {
            "text/plain": [
              "False"
            ]
          },
          "metadata": {
            "tags": []
          },
          "execution_count": 2
        }
      ]
    },
    {
      "cell_type": "markdown",
      "metadata": {
        "id": "ie6bcq2lTBEl",
        "colab_type": "text"
      },
      "source": [
        "- The above command shows that x is not stored as tensor object."
      ]
    },
    {
      "cell_type": "markdown",
      "metadata": {
        "id": "bc21UAKxTBEm",
        "colab_type": "text"
      },
      "source": [
        "- Now, we will create an object that contains random numbers from Torch, similar to NumPy library. \n",
        "\n",
        "- We can check the object type and storage type as follows -"
      ]
    },
    {
      "cell_type": "code",
      "metadata": {
        "id": "sB4daBbLTBEo",
        "colab_type": "code",
        "colab": {}
      },
      "source": [
        "# first, we will create a tensor y\n",
        "y = torch.randn(1,2,3,4,5)"
      ],
      "execution_count": 0,
      "outputs": []
    },
    {
      "cell_type": "code",
      "metadata": {
        "id": "FWRbOdh9TBEu",
        "colab_type": "code",
        "colab": {
          "base_uri": "https://localhost:8080/",
          "height": 34
        },
        "outputId": "42acb2dd-8dc8-4052-a89b-a82bbed0ccbc"
      },
      "source": [
        "# now check whether y is tensor object\n",
        "torch.is_tensor(y)"
      ],
      "execution_count": 4,
      "outputs": [
        {
          "output_type": "execute_result",
          "data": {
            "text/plain": [
              "True"
            ]
          },
          "metadata": {
            "tags": []
          },
          "execution_count": 4
        }
      ]
    },
    {
      "cell_type": "markdown",
      "metadata": {
        "id": "tC6x8-V9TBE1",
        "colab_type": "text"
      },
      "source": [
        "- The above command shows that y is a tensor object.\n",
        "\n"
      ]
    },
    {
      "cell_type": "markdown",
      "metadata": {
        "id": "rLqX1PWYTBE2",
        "colab_type": "text"
      },
      "source": [
        "- Now, let's check whether y is stored as tensor object."
      ]
    },
    {
      "cell_type": "code",
      "metadata": {
        "id": "Du3CRKaVTBE4",
        "colab_type": "code",
        "colab": {
          "base_uri": "https://localhost:8080/",
          "height": 34
        },
        "outputId": "74090521-0271-4611-96fd-1e130526cbb1"
      },
      "source": [
        "torch.is_storage(y)"
      ],
      "execution_count": 5,
      "outputs": [
        {
          "output_type": "execute_result",
          "data": {
            "text/plain": [
              "False"
            ]
          },
          "metadata": {
            "tags": []
          },
          "execution_count": 5
        }
      ]
    },
    {
      "cell_type": "markdown",
      "metadata": {
        "id": "bk18ul5JTBE8",
        "colab_type": "text"
      },
      "source": [
        "- We can see that y is not stored as tensor object."
      ]
    },
    {
      "cell_type": "markdown",
      "metadata": {
        "id": "ozc93DmeTBE-",
        "colab_type": "text"
      },
      "source": [
        "- The y object is a tensor. But, it is not stored. \n",
        "- To check the total number of elements in the input tensor object, the numerical element function can be used.\n",
        "- Now, we will check the total number of elements in the input tensor as follows -"
      ]
    },
    {
      "cell_type": "code",
      "metadata": {
        "id": "QIoWIkM2TBE_",
        "colab_type": "code",
        "colab": {
          "base_uri": "https://localhost:8080/",
          "height": 34
        },
        "outputId": "1f343eec-e949-4bd8-d07a-471078982be4"
      },
      "source": [
        "# check the total number of elements in y\n",
        "torch.numel(y)"
      ],
      "execution_count": 6,
      "outputs": [
        {
          "output_type": "execute_result",
          "data": {
            "text/plain": [
              "120"
            ]
          },
          "metadata": {
            "tags": []
          },
          "execution_count": 6
        }
      ]
    },
    {
      "cell_type": "markdown",
      "metadata": {
        "id": "uCsLRMbVTBFE",
        "colab_type": "text"
      },
      "source": [
        "- We can see that the total number of elements in y is 120."
      ]
    },
    {
      "cell_type": "markdown",
      "metadata": {
        "id": "W87ImVxnTBFH",
        "colab_type": "text"
      },
      "source": [
        "# **3. Create Tensors** \n",
        "\n",
        "- Now, we will create a PyTorch Tensor. "
      ]
    },
    {
      "cell_type": "code",
      "metadata": {
        "id": "Rh2lLBMhTBFI",
        "colab_type": "code",
        "colab": {
          "base_uri": "https://localhost:8080/",
          "height": 34
        },
        "outputId": "6d886cf0-6364-415f-9cda-37889ea90744"
      },
      "source": [
        "# Create a Tensor with just ones in a column\n",
        "a = torch.ones(5)\n",
        "\n",
        "\n",
        "# Print the tensor we created\n",
        "print(a)"
      ],
      "execution_count": 7,
      "outputs": [
        {
          "output_type": "stream",
          "text": [
            "tensor([1., 1., 1., 1., 1.])\n"
          ],
          "name": "stdout"
        }
      ]
    },
    {
      "cell_type": "code",
      "metadata": {
        "id": "jYp-gpVbTBFN",
        "colab_type": "code",
        "colab": {
          "base_uri": "https://localhost:8080/",
          "height": 34
        },
        "outputId": "4f23b685-aa6e-4f14-d4b8-acefc2747fbf"
      },
      "source": [
        "# Create a Tensor with just zeros in a column\n",
        "b = torch.zeros(5)\n",
        "\n",
        "\n",
        "# Print the tensor we created\n",
        "print(b)"
      ],
      "execution_count": 8,
      "outputs": [
        {
          "output_type": "stream",
          "text": [
            "tensor([0., 0., 0., 0., 0.])\n"
          ],
          "name": "stdout"
        }
      ]
    },
    {
      "cell_type": "markdown",
      "metadata": {
        "id": "3mgHvCBQTBFR",
        "colab_type": "text"
      },
      "source": [
        "- We can similarly create Tensor with custom values as shown below."
      ]
    },
    {
      "cell_type": "code",
      "metadata": {
        "id": "Crj5070iTBFT",
        "colab_type": "code",
        "colab": {
          "base_uri": "https://localhost:8080/",
          "height": 34
        },
        "outputId": "265bfa60-8f15-4bcf-a12f-cd2d087f90cd"
      },
      "source": [
        "# Create a Tensor with custom values\n",
        "c = torch.tensor([1.0, 2.0, 3.0, 4.0, 5.0])\n",
        "\n",
        "# Print the tensor we created\n",
        "print(c)"
      ],
      "execution_count": 9,
      "outputs": [
        {
          "output_type": "stream",
          "text": [
            "tensor([1., 2., 3., 4., 5.])\n"
          ],
          "name": "stdout"
        }
      ]
    },
    {
      "cell_type": "markdown",
      "metadata": {
        "id": "Xgnfx85uTBFX",
        "colab_type": "text"
      },
      "source": [
        "- In all the above cases, we have created vectors or Tensors of dimension 1. Now, we will create some tensors of higher dimensions.\n",
        "\n",
        "- First, we will create a tensor of zeros with higher dimensions. "
      ]
    },
    {
      "cell_type": "code",
      "metadata": {
        "id": "Xh9Z8G5JTBFZ",
        "colab_type": "code",
        "colab": {
          "base_uri": "https://localhost:8080/",
          "height": 85
        },
        "outputId": "604f6a84-61a4-453b-e446-42e9ebaa8742"
      },
      "source": [
        "# Create a Tensor with zeros with higher dimensions\n",
        "d = torch.zeros(4,4)\n",
        "\n",
        "# Print the tensor we created\n",
        "print(d)"
      ],
      "execution_count": 10,
      "outputs": [
        {
          "output_type": "stream",
          "text": [
            "tensor([[0., 0., 0., 0.],\n",
            "        [0., 0., 0., 0.],\n",
            "        [0., 0., 0., 0.],\n",
            "        [0., 0., 0., 0.]])\n"
          ],
          "name": "stdout"
        }
      ]
    },
    {
      "cell_type": "code",
      "metadata": {
        "id": "mBGYCrVETBFg",
        "colab_type": "code",
        "colab": {
          "base_uri": "https://localhost:8080/",
          "height": 34
        },
        "outputId": "11107a99-4538-4e9f-8093-ae4297194275"
      },
      "source": [
        "# now we will count the numerical elements in d\n",
        "torch.numel(d)"
      ],
      "execution_count": 11,
      "outputs": [
        {
          "output_type": "execute_result",
          "data": {
            "text/plain": [
              "16"
            ]
          },
          "metadata": {
            "tags": []
          },
          "execution_count": 11
        }
      ]
    },
    {
      "cell_type": "markdown",
      "metadata": {
        "id": "_LNIxSdMTBFk",
        "colab_type": "text"
      },
      "source": [
        "- So, the tensor `d` have 16 elements in it."
      ]
    },
    {
      "cell_type": "code",
      "metadata": {
        "id": "-XvOFe0FTBFl",
        "colab_type": "code",
        "colab": {
          "base_uri": "https://localhost:8080/",
          "height": 68
        },
        "outputId": "12e1278c-f6ec-47d3-f426-dc9526f2c450"
      },
      "source": [
        "# Create a Tensor with zeros with higher dimensions\n",
        "e = torch.zeros(3,2)\n",
        "\n",
        "# Print the tensor we created\n",
        "print(e)"
      ],
      "execution_count": 12,
      "outputs": [
        {
          "output_type": "stream",
          "text": [
            "tensor([[0., 0.],\n",
            "        [0., 0.],\n",
            "        [0., 0.]])\n"
          ],
          "name": "stdout"
        }
      ]
    },
    {
      "cell_type": "code",
      "metadata": {
        "id": "_ofXdvJTTBFr",
        "colab_type": "code",
        "colab": {
          "base_uri": "https://localhost:8080/",
          "height": 68
        },
        "outputId": "c98347cf-fe0f-43ed-d210-bf402b1ae2d4"
      },
      "source": [
        "# Create a Tensor with ones with higher dimensions\n",
        "f = torch.ones(3,2)\n",
        "\n",
        "# Print the tensor we created\n",
        "print(f)"
      ],
      "execution_count": 13,
      "outputs": [
        {
          "output_type": "stream",
          "text": [
            "tensor([[1., 1.],\n",
            "        [1., 1.],\n",
            "        [1., 1.]])\n"
          ],
          "name": "stdout"
        }
      ]
    },
    {
      "cell_type": "code",
      "metadata": {
        "id": "AmDndZtrTBFw",
        "colab_type": "code",
        "colab": {
          "base_uri": "https://localhost:8080/",
          "height": 51
        },
        "outputId": "14137823-e275-45dc-9599-9f8daa347634"
      },
      "source": [
        "# Create a Tensor with customized values with higher dimensions\n",
        "g = torch.tensor([[1.0, 2.0], [3.0, 4.0]])\n",
        "\n",
        "# Print the tensor we created\n",
        "print(g)"
      ],
      "execution_count": 14,
      "outputs": [
        {
          "output_type": "stream",
          "text": [
            "tensor([[1., 2.],\n",
            "        [3., 4.]])\n"
          ],
          "name": "stdout"
        }
      ]
    },
    {
      "cell_type": "code",
      "metadata": {
        "id": "CyZmjd-TTBF0",
        "colab_type": "code",
        "colab": {
          "base_uri": "https://localhost:8080/",
          "height": 102
        },
        "outputId": "7e359ee2-758b-4ac0-a5ee-3a0956c23ac1"
      },
      "source": [
        "# Create a 3D Tensor\n",
        "h = torch.tensor([[[1.0, 2.0], [3.0, 4.0]], [[5.0, 6.0], [7.0, 8.0]]])\n",
        "\n",
        "# Print the 3d tensor we created\n",
        "print(h)"
      ],
      "execution_count": 15,
      "outputs": [
        {
          "output_type": "stream",
          "text": [
            "tensor([[[1., 2.],\n",
            "         [3., 4.]],\n",
            "\n",
            "        [[5., 6.],\n",
            "         [7., 8.]]])\n"
          ],
          "name": "stdout"
        }
      ]
    },
    {
      "cell_type": "markdown",
      "metadata": {
        "id": "E-TLqkxATBF6",
        "colab_type": "text"
      },
      "source": [
        "# **4. Diagonal Matrix of Tensors** \n",
        "\n",
        "- Like NumPy operations, the eye function creates a diagonal matrix of tensors.\n",
        "- The diagonal elements have ones, and off diagonal elements have zeros. "
      ]
    },
    {
      "cell_type": "code",
      "metadata": {
        "id": "pqWuNjJRTBF7",
        "colab_type": "code",
        "colab": {
          "base_uri": "https://localhost:8080/",
          "height": 68
        },
        "outputId": "aa27a627-5c12-4c17-f562-d1d334365960"
      },
      "source": [
        "# create a diagonal matrix of tensors with dimensions (3,3)\n",
        "i = torch.eye(3,3)\n",
        "\n",
        "print(i)"
      ],
      "execution_count": 16,
      "outputs": [
        {
          "output_type": "stream",
          "text": [
            "tensor([[1., 0., 0.],\n",
            "        [0., 1., 0.],\n",
            "        [0., 0., 1.]])\n"
          ],
          "name": "stdout"
        }
      ]
    },
    {
      "cell_type": "code",
      "metadata": {
        "id": "ROHBc2HSTBGA",
        "colab_type": "code",
        "colab": {
          "base_uri": "https://localhost:8080/",
          "height": 102
        },
        "outputId": "c8eeb791-e313-4101-bf83-22f04c310efb"
      },
      "source": [
        "# create a diagonal matrix of tensors with dimensions (5,5)\n",
        "j = torch.eye(5,5)\n",
        "\n",
        "print(j)"
      ],
      "execution_count": 17,
      "outputs": [
        {
          "output_type": "stream",
          "text": [
            "tensor([[1., 0., 0., 0., 0.],\n",
            "        [0., 1., 0., 0., 0.],\n",
            "        [0., 0., 1., 0., 0.],\n",
            "        [0., 0., 0., 1., 0.],\n",
            "        [0., 0., 0., 0., 1.]])\n"
          ],
          "name": "stdout"
        }
      ]
    },
    {
      "cell_type": "markdown",
      "metadata": {
        "id": "7wbcI_2YTBGE",
        "colab_type": "text"
      },
      "source": [
        "# **5. Shape of the Tensor** \n",
        "\n",
        "- We can also find out the shape of a Tensor using **shape** method as follows -"
      ]
    },
    {
      "cell_type": "code",
      "metadata": {
        "id": "pDO6WpZpTBGF",
        "colab_type": "code",
        "colab": {
          "base_uri": "https://localhost:8080/",
          "height": 68
        },
        "outputId": "5ca1d73f-1e93-418f-f4c8-4e2ed4bc8a15"
      },
      "source": [
        "# Create a Tensor with customized values with higher dimensions\n",
        "k = torch.tensor([[1.0, 2.0], [3.0, 4.0], [5.0, 6.0]])\n",
        "\n",
        "print(k)"
      ],
      "execution_count": 18,
      "outputs": [
        {
          "output_type": "stream",
          "text": [
            "tensor([[1., 2.],\n",
            "        [3., 4.],\n",
            "        [5., 6.]])\n"
          ],
          "name": "stdout"
        }
      ]
    },
    {
      "cell_type": "code",
      "metadata": {
        "id": "bgyLLmuzTBGJ",
        "colab_type": "code",
        "colab": {
          "base_uri": "https://localhost:8080/",
          "height": 34
        },
        "outputId": "d07a1747-dc70-40b5-f9d7-95f9c7e44d35"
      },
      "source": [
        "# Print the shape of k\n",
        "print(k.shape)"
      ],
      "execution_count": 19,
      "outputs": [
        {
          "output_type": "stream",
          "text": [
            "torch.Size([3, 2])\n"
          ],
          "name": "stdout"
        }
      ]
    },
    {
      "cell_type": "markdown",
      "metadata": {
        "id": "JIyfCmJBTBGO",
        "colab_type": "text"
      },
      "source": [
        "- We can see that k has dimensions (3,2)."
      ]
    },
    {
      "cell_type": "code",
      "metadata": {
        "id": "tjQlxZBJTBGP",
        "colab_type": "code",
        "colab": {
          "base_uri": "https://localhost:8080/",
          "height": 34
        },
        "outputId": "f1fef103-8ea4-48c2-b87f-8586896a39bf"
      },
      "source": [
        "# Create a Tensor with ones with higher dimensions\n",
        "l = torch.ones(3,2)\n",
        "\n",
        "# Print the shape of f\n",
        "print(l.shape)"
      ],
      "execution_count": 20,
      "outputs": [
        {
          "output_type": "stream",
          "text": [
            "torch.Size([3, 2])\n"
          ],
          "name": "stdout"
        }
      ]
    },
    {
      "cell_type": "code",
      "metadata": {
        "id": "_gqajXiRTBGV",
        "colab_type": "code",
        "colab": {
          "base_uri": "https://localhost:8080/",
          "height": 34
        },
        "outputId": "ed9011d3-25ac-4d93-f90c-52bb04e07b91"
      },
      "source": [
        "# Create a 3D Tensor\n",
        "m = torch.tensor([[[1.0, 2.0], [3.0, 4.0]], [[5.0, 6.0], [7.0, 8.0]]])\n",
        "\n",
        "# Print the shape of m\n",
        "print(m.shape)\n"
      ],
      "execution_count": 21,
      "outputs": [
        {
          "output_type": "stream",
          "text": [
            "torch.Size([2, 2, 2])\n"
          ],
          "name": "stdout"
        }
      ]
    },
    {
      "cell_type": "markdown",
      "metadata": {
        "id": "MoJAhtBsTBGY",
        "colab_type": "text"
      },
      "source": [
        "# **6. Access elements in Tensor** \n",
        "\n",
        "### **Access elements of 1D Tensor**\n",
        "\n",
        "- Now we know how to create tensors, \n",
        "\n",
        "- Let’s see how we can access an element in a Tensor. \n",
        "\n",
        "- First let’s see how to do this for 1D Tensor or a vector."
      ]
    },
    {
      "cell_type": "code",
      "metadata": {
        "id": "Nb4qp45QTBGZ",
        "colab_type": "code",
        "colab": {
          "base_uri": "https://localhost:8080/",
          "height": 34
        },
        "outputId": "9784b0a2-81e3-4395-aaa5-df461bc4edb3"
      },
      "source": [
        "# Create a Tensor with custom values\n",
        "n = torch.tensor([1.0, 2.0, 3.0, 4.0, 5.0])\n",
        "\n",
        "# Get element at index 2\n",
        "print(n[2])"
      ],
      "execution_count": 22,
      "outputs": [
        {
          "output_type": "stream",
          "text": [
            "tensor(3.)\n"
          ],
          "name": "stdout"
        }
      ]
    },
    {
      "cell_type": "markdown",
      "metadata": {
        "id": "P3LfLd9JTBGd",
        "colab_type": "text"
      },
      "source": [
        "### **Access elements of 2D Tensor**\n",
        "\n",
        "- To access one particular element in a tensor, we will need to specify indices equal to the dimension of the tensor. \n",
        "- So for tensor n we only had to specify one index as in the above case.\n",
        "- But, for tensor o we need to specify two indices as in the below case. "
      ]
    },
    {
      "cell_type": "code",
      "metadata": {
        "id": "IyLzsIcQTBGe",
        "colab_type": "code",
        "colab": {
          "base_uri": "https://localhost:8080/",
          "height": 34
        },
        "outputId": "e4127af7-ba22-4b50-9373-f65151887cd6"
      },
      "source": [
        "# All indices starting from 0\n",
        "\n",
        "# Create a Tensor with customized values with higher dimensions\n",
        "o = torch.tensor([[1.0, 2.0], [3.0, 4.0]])\n",
        "\n",
        "# Get element at row 1, column 0\n",
        "print(o[1,0])"
      ],
      "execution_count": 23,
      "outputs": [
        {
          "output_type": "stream",
          "text": [
            "tensor(3.)\n"
          ],
          "name": "stdout"
        }
      ]
    },
    {
      "cell_type": "markdown",
      "metadata": {
        "id": "HUsSiWKoTBGi",
        "colab_type": "text"
      },
      "source": [
        "- We can define the two indices separately as follows-"
      ]
    },
    {
      "cell_type": "code",
      "metadata": {
        "id": "O7q5XrziTBGk",
        "colab_type": "code",
        "colab": {
          "base_uri": "https://localhost:8080/",
          "height": 34
        },
        "outputId": "25f4ffc1-8e6d-4d12-ce3b-7534f54450b6"
      },
      "source": [
        "# We can also use the following\n",
        "print(o[1][0])"
      ],
      "execution_count": 24,
      "outputs": [
        {
          "output_type": "stream",
          "text": [
            "tensor(3.)\n"
          ],
          "name": "stdout"
        }
      ]
    },
    {
      "cell_type": "markdown",
      "metadata": {
        "id": "gawgHW42TBGq",
        "colab_type": "text"
      },
      "source": [
        "### **Access elements of 3D Tensor**\n",
        "\n",
        "- We can access elements of 3D Tensor as follows:-"
      ]
    },
    {
      "cell_type": "code",
      "metadata": {
        "id": "fnauuczoTBGr",
        "colab_type": "code",
        "colab": {
          "base_uri": "https://localhost:8080/",
          "height": 34
        },
        "outputId": "a7cc4044-f23e-43b7-86ea-2926fd8fe762"
      },
      "source": [
        "# Create a 3D Tensor\n",
        "p = torch.tensor([[[1.0, 2.0], [3.0, 4.0]], [[5.0, 6.0], [7.0, 8.0]]])\n",
        "\n",
        "# Access elements at (1,0,0) position\n",
        "print(p[1,0,0])"
      ],
      "execution_count": 25,
      "outputs": [
        {
          "output_type": "stream",
          "text": [
            "tensor(5.)\n"
          ],
          "name": "stdout"
        }
      ]
    },
    {
      "cell_type": "code",
      "metadata": {
        "id": "fpIy_JpKTBGv",
        "colab_type": "code",
        "colab": {
          "base_uri": "https://localhost:8080/",
          "height": 34
        },
        "outputId": "37db0129-1a75-40d0-ad49-2a40b1413c1b"
      },
      "source": [
        "# We can access the same element at (1,0,0) position as follows -\n",
        "print(p[1][0][0])"
      ],
      "execution_count": 26,
      "outputs": [
        {
          "output_type": "stream",
          "text": [
            "tensor(5.)\n"
          ],
          "name": "stdout"
        }
      ]
    },
    {
      "cell_type": "markdown",
      "metadata": {
        "id": "jBaSOHFCTBGz",
        "colab_type": "text"
      },
      "source": [
        "### **Access one entire row in a 2D Tensor**"
      ]
    },
    {
      "cell_type": "code",
      "metadata": {
        "id": "IgnifPNATBG1",
        "colab_type": "code",
        "colab": {
          "base_uri": "https://localhost:8080/",
          "height": 51
        },
        "outputId": "ff093b7a-6180-492b-ddec-316e99fb5e6e"
      },
      "source": [
        "# Create a Tensor q\n",
        "q = torch.tensor([[1.0, 2.0], [3.0, 4.0]])\n",
        "\n",
        "# print all elements of q\n",
        "print(q[:])"
      ],
      "execution_count": 27,
      "outputs": [
        {
          "output_type": "stream",
          "text": [
            "tensor([[1., 2.],\n",
            "        [3., 4.]])\n"
          ],
          "name": "stdout"
        }
      ]
    },
    {
      "cell_type": "code",
      "metadata": {
        "id": "WbzSuJ0hTBG4",
        "colab_type": "code",
        "colab": {
          "base_uri": "https://localhost:8080/",
          "height": 34
        },
        "outputId": "65f1530a-16f3-482e-d80d-c165ec569d42"
      },
      "source": [
        "# access first row of q\n",
        "print(q[0,:])"
      ],
      "execution_count": 28,
      "outputs": [
        {
          "output_type": "stream",
          "text": [
            "tensor([1., 2.])\n"
          ],
          "name": "stdout"
        }
      ]
    },
    {
      "cell_type": "code",
      "metadata": {
        "id": "u2VGjtFMTBG7",
        "colab_type": "code",
        "colab": {
          "base_uri": "https://localhost:8080/",
          "height": 34
        },
        "outputId": "f470f982-f064-4701-d9b5-62d9188fb868"
      },
      "source": [
        "# access second column of q\n",
        "print(q[:,1])"
      ],
      "execution_count": 29,
      "outputs": [
        {
          "output_type": "stream",
          "text": [
            "tensor([2., 4.])\n"
          ],
          "name": "stdout"
        }
      ]
    },
    {
      "cell_type": "code",
      "metadata": {
        "id": "cYpeb7sJTBHA",
        "colab_type": "code",
        "colab": {
          "base_uri": "https://localhost:8080/",
          "height": 34
        },
        "outputId": "d826a891-e2e2-43bf-d8c0-18da440ee05d"
      },
      "source": [
        "# create a Tensor r\n",
        "r = torch.tensor([1.0, 2.0, 3.0, 4.0, 5.0])\n",
        "\n",
        "# all elements from index 1 to 2 (inclusive)\n",
        "print(r[1:3])"
      ],
      "execution_count": 30,
      "outputs": [
        {
          "output_type": "stream",
          "text": [
            "tensor([2., 3.])\n"
          ],
          "name": "stdout"
        }
      ]
    },
    {
      "cell_type": "code",
      "metadata": {
        "id": "2oQs3JibTBHE",
        "colab_type": "code",
        "colab": {
          "base_uri": "https://localhost:8080/",
          "height": 34
        },
        "outputId": "1cc899ee-a5c7-416e-d3fc-78be3eac375c"
      },
      "source": [
        "# all elements till index 4 (exclusive)\n",
        "print(r[:4])"
      ],
      "execution_count": 31,
      "outputs": [
        {
          "output_type": "stream",
          "text": [
            "tensor([1., 2., 3., 4.])\n"
          ],
          "name": "stdout"
        }
      ]
    },
    {
      "cell_type": "markdown",
      "metadata": {
        "id": "Mn7YgLycTBHI",
        "colab_type": "text"
      },
      "source": [
        "# **7. Specify data types of elements** \n",
        "\n",
        "\n",
        "- Whenever we create a tensor, PyTorch decides the data type of the elements of the tensor such that the data type can cover all the elements of the tensor. \n",
        "\n",
        "- We can override this by specifying the data type while creating the tensor."
      ]
    },
    {
      "cell_type": "code",
      "metadata": {
        "id": "o4G6XQq_TBHJ",
        "colab_type": "code",
        "colab": {
          "base_uri": "https://localhost:8080/",
          "height": 34
        },
        "outputId": "9a8a4868-1082-4e18-c5b1-92c15fefccb8"
      },
      "source": [
        "int_tensor = torch.tensor([[1,2,3],[4,5,6]])\n",
        "print(int_tensor.dtype)"
      ],
      "execution_count": 32,
      "outputs": [
        {
          "output_type": "stream",
          "text": [
            "torch.int64\n"
          ],
          "name": "stdout"
        }
      ]
    },
    {
      "cell_type": "code",
      "metadata": {
        "id": "gXfT4V0tTBHO",
        "colab_type": "code",
        "colab": {
          "base_uri": "https://localhost:8080/",
          "height": 34
        },
        "outputId": "d3dc4fea-9612-4b7f-e3e7-016d9f06075c"
      },
      "source": [
        "# data type if we change any one element to floating point number\n",
        "int_tensor = torch.tensor([[1,2,3],[4.,5,6]])\n",
        "print(int_tensor.dtype)"
      ],
      "execution_count": 33,
      "outputs": [
        {
          "output_type": "stream",
          "text": [
            "torch.float32\n"
          ],
          "name": "stdout"
        }
      ]
    },
    {
      "cell_type": "code",
      "metadata": {
        "id": "8vUtCV-2TBHZ",
        "colab_type": "code",
        "colab": {
          "base_uri": "https://localhost:8080/",
          "height": 51
        },
        "outputId": "c65dcc79-43a3-49ac-f526-e66d90f6132e"
      },
      "source": [
        "print(int_tensor)"
      ],
      "execution_count": 34,
      "outputs": [
        {
          "output_type": "stream",
          "text": [
            "tensor([[1., 2., 3.],\n",
            "        [4., 5., 6.]])\n"
          ],
          "name": "stdout"
        }
      ]
    },
    {
      "cell_type": "code",
      "metadata": {
        "id": "N6qL5t2rTBHe",
        "colab_type": "code",
        "colab": {
          "base_uri": "https://localhost:8080/",
          "height": 34
        },
        "outputId": "4ff5002d-c709-4ee4-b089-a49aa1ddad36"
      },
      "source": [
        "# This can be overridden as follows\n",
        "int_tensor = torch.tensor([[1,2,3],[4.,5,6]], dtype=torch.int32)\n",
        "print(int_tensor.dtype)"
      ],
      "execution_count": 35,
      "outputs": [
        {
          "output_type": "stream",
          "text": [
            "torch.int32\n"
          ],
          "name": "stdout"
        }
      ]
    },
    {
      "cell_type": "code",
      "metadata": {
        "id": "aPr3mLttTBHl",
        "colab_type": "code",
        "colab": {
          "base_uri": "https://localhost:8080/",
          "height": 51
        },
        "outputId": "c13ce6a4-4bdf-4d93-fae1-72bb9305d4cf"
      },
      "source": [
        "print(int_tensor)"
      ],
      "execution_count": 36,
      "outputs": [
        {
          "output_type": "stream",
          "text": [
            "tensor([[1, 2, 3],\n",
            "        [4, 5, 6]], dtype=torch.int32)\n"
          ],
          "name": "stdout"
        }
      ]
    },
    {
      "cell_type": "markdown",
      "metadata": {
        "id": "ahiDjWKSTBHt",
        "colab_type": "text"
      },
      "source": [
        "# **8. Tensor to/from NumPy Array** \n",
        "\n",
        "\n",
        "- PyTorch Tensors and NumPy arrays are very similar. \n",
        "- So, it is possible to convert one data structure into another. \n",
        "- We can do it as follows -"
      ]
    },
    {
      "cell_type": "code",
      "metadata": {
        "id": "bTjdQtWJTBHu",
        "colab_type": "code",
        "colab": {
          "base_uri": "https://localhost:8080/",
          "height": 51
        },
        "outputId": "d175c4ef-76f0-4111-9d7a-64f3e2ccb8c0"
      },
      "source": [
        "# import NumPy\n",
        "import numpy as np\n",
        "\n",
        "# create a tensor s\n",
        "s = torch.tensor([[1.0, 2.0], [3.0, 4.0]])\n",
        " \n",
        "# convert tensor to numpy array\n",
        "s_numpy = s.numpy()\n",
        "print(s_numpy)"
      ],
      "execution_count": 37,
      "outputs": [
        {
          "output_type": "stream",
          "text": [
            "[[1. 2.]\n",
            " [3. 4.]]\n"
          ],
          "name": "stdout"
        }
      ]
    },
    {
      "cell_type": "code",
      "metadata": {
        "id": "j9yJn2_hTBHz",
        "colab_type": "code",
        "colab": {
          "base_uri": "https://localhost:8080/",
          "height": 51
        },
        "outputId": "11b1024f-e555-4681-c87b-18f12cd5cad2"
      },
      "source": [
        "# convert numpy array to tensor\n",
        "t = np.array([[8,7,6,5],[4,3,2,1]])\n",
        "t_tensor = torch.from_numpy(t)\n",
        "print(t_tensor)\n",
        " "
      ],
      "execution_count": 38,
      "outputs": [
        {
          "output_type": "stream",
          "text": [
            "tensor([[8, 7, 6, 5],\n",
            "        [4, 3, 2, 1]])\n"
          ],
          "name": "stdout"
        }
      ]
    },
    {
      "cell_type": "markdown",
      "metadata": {
        "id": "ZO7qJk6jTBH5",
        "colab_type": "text"
      },
      "source": [
        "# **9. Random Sampling of Tensors** \n",
        "\n",
        "\n",
        "- The deep learning task requires reproducing the same set of results to maintain consistency. \n",
        "- In such a case, manual seed needs to be set as follows -\n"
      ]
    },
    {
      "cell_type": "code",
      "metadata": {
        "id": "bYL-PiU8TBH5",
        "colab_type": "code",
        "colab": {
          "base_uri": "https://localhost:8080/",
          "height": 34
        },
        "outputId": "6b92757b-7f57-4327-cf45-bb3ea4d052eb"
      },
      "source": [
        "import torch\n",
        "\n",
        "torch.manual_seed(1234)"
      ],
      "execution_count": 39,
      "outputs": [
        {
          "output_type": "execute_result",
          "data": {
            "text/plain": [
              "<torch._C.Generator at 0x7fd9aba83b50>"
            ]
          },
          "metadata": {
            "tags": []
          },
          "execution_count": 39
        }
      ]
    },
    {
      "cell_type": "code",
      "metadata": {
        "id": "TJ9iHwa-TBH_",
        "colab_type": "code",
        "colab": {
          "base_uri": "https://localhost:8080/",
          "height": 85
        },
        "outputId": "ad46cca7-b070-4b62-a831-0013d845d15b"
      },
      "source": [
        "torch.manual_seed(1234)\n",
        "\n",
        "u = torch.randn(4,4)\n",
        "\n",
        "u"
      ],
      "execution_count": 40,
      "outputs": [
        {
          "output_type": "execute_result",
          "data": {
            "text/plain": [
              "tensor([[-0.1117, -0.4966,  0.1631, -0.8817],\n",
              "        [ 0.0539,  0.6684, -0.0597, -0.4675],\n",
              "        [-0.2153,  0.8840, -0.7584, -0.3689],\n",
              "        [-0.3424, -1.4020,  0.3206, -1.0219]])"
            ]
          },
          "metadata": {
            "tags": []
          },
          "execution_count": 40
        }
      ]
    },
    {
      "cell_type": "markdown",
      "metadata": {
        "id": "fyM2yfM0TBIC",
        "colab_type": "text"
      },
      "source": [
        "- Now, everytime `u` produce the same result."
      ]
    },
    {
      "cell_type": "code",
      "metadata": {
        "id": "sn37bJN7TBID",
        "colab_type": "code",
        "colab": {
          "base_uri": "https://localhost:8080/",
          "height": 85
        },
        "outputId": "95883cbb-a6de-4eaf-c47e-ccdb0fe8a7db"
      },
      "source": [
        "u"
      ],
      "execution_count": 41,
      "outputs": [
        {
          "output_type": "execute_result",
          "data": {
            "text/plain": [
              "tensor([[-0.1117, -0.4966,  0.1631, -0.8817],\n",
              "        [ 0.0539,  0.6684, -0.0597, -0.4675],\n",
              "        [-0.2153,  0.8840, -0.7584, -0.3689],\n",
              "        [-0.3424, -1.4020,  0.3206, -1.0219]])"
            ]
          },
          "metadata": {
            "tags": []
          },
          "execution_count": 41
        }
      ]
    },
    {
      "cell_type": "markdown",
      "metadata": {
        "id": "6SHpFSOtTBIG",
        "colab_type": "text"
      },
      "source": [
        "- The seed value can be customized. \n",
        "- The random number is generated purely by chance. \n",
        "- Random numbers can also be generated from a statistical distribution."
      ]
    },
    {
      "cell_type": "markdown",
      "metadata": {
        "id": "RhDxjVRxTBIH",
        "colab_type": "text"
      },
      "source": [
        "### **Random Sampling from Uniform Distribution**\n",
        "\n",
        "- In a continuous uniform distribution, each number has an equal chance of being selected. \n",
        "- Random sampling from a uniform distribution can be done as follows.\n",
        "- In the following example, the start is 0 and the end is 1 and between those two digits, all 16 elements are selected."
      ]
    },
    {
      "cell_type": "code",
      "metadata": {
        "id": "gBRRXPqJTBII",
        "colab_type": "code",
        "colab": {
          "base_uri": "https://localhost:8080/",
          "height": 85
        },
        "outputId": "d952a629-9df9-48e7-80c8-1d68a7ca5d19"
      },
      "source": [
        "# random sampling from uniform distribution\n",
        "torch.Tensor(4,4).uniform_(0,1)"
      ],
      "execution_count": 42,
      "outputs": [
        {
          "output_type": "execute_result",
          "data": {
            "text/plain": [
              "tensor([[0.2837, 0.6567, 0.2388, 0.7313],\n",
              "        [0.6012, 0.3043, 0.2548, 0.6294],\n",
              "        [0.9665, 0.7399, 0.4517, 0.4757],\n",
              "        [0.7842, 0.1525, 0.6662, 0.3343]])"
            ]
          },
          "metadata": {
            "tags": []
          },
          "execution_count": 42
        }
      ]
    },
    {
      "cell_type": "markdown",
      "metadata": {
        "id": "AdlWYKUOTBIO",
        "colab_type": "text"
      },
      "source": [
        "### **Random Sampling from Bernoulli Distribution**\n",
        "\n",
        "- In statistics, the Bernoulli distribution is considered as the discrete probability distribution, which has two possible outcomes. \n",
        "- If the event happens, then the value is 1, and if the event does not happen, then the value is 0.\n",
        "- From the Bernoulli distribution, we create sample tensors by considering the uniform distribution of size 4 and 4 in a matrix format.\n",
        "- Random Sampling from Bernoulli distribution can be done as follows."
      ]
    },
    {
      "cell_type": "code",
      "metadata": {
        "id": "-XuN4C4eTBIR",
        "colab_type": "code",
        "colab": {
          "base_uri": "https://localhost:8080/",
          "height": 85
        },
        "outputId": "43393bf2-d46a-4136-e0f0-9af18c1a5aa7"
      },
      "source": [
        "# random sampling from bernoulli distribution\n",
        "torch.bernoulli(torch.Tensor(4,4).uniform_(0,1))"
      ],
      "execution_count": 43,
      "outputs": [
        {
          "output_type": "execute_result",
          "data": {
            "text/plain": [
              "tensor([[0., 0., 0., 0.],\n",
              "        [1., 0., 1., 0.],\n",
              "        [1., 0., 1., 1.],\n",
              "        [0., 0., 0., 0.]])"
            ]
          },
          "metadata": {
            "tags": []
          },
          "execution_count": 43
        }
      ]
    },
    {
      "cell_type": "markdown",
      "metadata": {
        "id": "-q9q3WrGTBIV",
        "colab_type": "text"
      },
      "source": [
        "### **Random Sampling from Multinomial Distribution**\n",
        "\n",
        "- In a multinomial distribution, we can choose with a replacement or without a replacement.\n",
        "- By default, the multinomial function picks up without a replacement and returns the result as an index position for the tensors."
      ]
    },
    {
      "cell_type": "code",
      "metadata": {
        "id": "jRF5RaeVTBIW",
        "colab_type": "code",
        "colab": {
          "base_uri": "https://localhost:8080/",
          "height": 34
        },
        "outputId": "400487ef-e818-4451-e0bd-f8eabd7a4ed4"
      },
      "source": [
        "torch.Tensor([10,20,30,40,50,60,70,80,90,100,110,120])"
      ],
      "execution_count": 44,
      "outputs": [
        {
          "output_type": "execute_result",
          "data": {
            "text/plain": [
              "tensor([ 10.,  20.,  30.,  40.,  50.,  60.,  70.,  80.,  90., 100., 110., 120.])"
            ]
          },
          "metadata": {
            "tags": []
          },
          "execution_count": 44
        }
      ]
    },
    {
      "cell_type": "code",
      "metadata": {
        "id": "omF8ImbHTBIc",
        "colab_type": "code",
        "colab": {
          "base_uri": "https://localhost:8080/",
          "height": 34
        },
        "outputId": "d95e3c5d-8f3b-43ac-889d-38b8cafec735"
      },
      "source": [
        "torch.multinomial(torch.Tensor([10,20,30,40,\n",
        "                                50,60,70,80,\n",
        "                                90,100,110,120]),\n",
        "                 3)"
      ],
      "execution_count": 45,
      "outputs": [
        {
          "output_type": "execute_result",
          "data": {
            "text/plain": [
              "tensor([10,  7,  5])"
            ]
          },
          "metadata": {
            "tags": []
          },
          "execution_count": 45
        }
      ]
    },
    {
      "cell_type": "markdown",
      "metadata": {
        "id": "lKwqovtpTBIf",
        "colab_type": "text"
      },
      "source": [
        "- Sampling from multinomial distribution with a replacement returns the tensors’ index values.\n",
        "- If we need to run it with a replacement, then we need to specify that while sampling."
      ]
    },
    {
      "cell_type": "code",
      "metadata": {
        "id": "FN6lDDIbTBIg",
        "colab_type": "code",
        "colab": {
          "base_uri": "https://localhost:8080/",
          "height": 34
        },
        "outputId": "7f5ea413-3809-4576-9a56-8b5ea4c8b9c8"
      },
      "source": [
        "torch.multinomial(torch.Tensor([10,20,30,40,\n",
        "                                50,60,70,80,\n",
        "                                90,100,110,120]),\n",
        "                  5, replacement=True)"
      ],
      "execution_count": 46,
      "outputs": [
        {
          "output_type": "execute_result",
          "data": {
            "text/plain": [
              "tensor([11,  3,  4,  8,  6])"
            ]
          },
          "metadata": {
            "tags": []
          },
          "execution_count": 46
        }
      ]
    },
    {
      "cell_type": "markdown",
      "metadata": {
        "id": "JaTRSkYVTBIj",
        "colab_type": "text"
      },
      "source": [
        "### **Random Sampling from Normal Distribution**\n",
        "\n",
        "\n",
        "- The process of creating a set of random numbers generated from a normal distribution is as follows.\n",
        "\n"
      ]
    },
    {
      "cell_type": "code",
      "metadata": {
        "id": "zNQgcyTGTBIk",
        "colab_type": "code",
        "colab": {
          "base_uri": "https://localhost:8080/",
          "height": 51
        },
        "outputId": "8463e531-73ad-40b1-a76c-09ffe305c072"
      },
      "source": [
        "torch.normal(mean = torch.arange(1., 11.),\n",
        "             std = torch.arange(1, 0, -0.1))"
      ],
      "execution_count": 47,
      "outputs": [
        {
          "output_type": "execute_result",
          "data": {
            "text/plain": [
              "tensor([-0.0413,  2.0632,  3.4637,  3.9581,  5.1089,  5.6602,  6.8973,  7.4543,\n",
              "         9.0422, 10.0337])"
            ]
          },
          "metadata": {
            "tags": []
          },
          "execution_count": 47
        }
      ]
    },
    {
      "cell_type": "code",
      "metadata": {
        "id": "4srGx9imTBIn",
        "colab_type": "code",
        "colab": {
          "base_uri": "https://localhost:8080/",
          "height": 34
        },
        "outputId": "3629334c-7258-402c-dba1-c7e75bf3724c"
      },
      "source": [
        "torch.normal(mean = 0.5,\n",
        "             std = torch.arange(1., 6.))"
      ],
      "execution_count": 48,
      "outputs": [
        {
          "output_type": "execute_result",
          "data": {
            "text/plain": [
              "tensor([ 1.1638,  2.5794,  6.0301,  3.1352, -0.6746])"
            ]
          },
          "metadata": {
            "tags": []
          },
          "execution_count": 48
        }
      ]
    },
    {
      "cell_type": "code",
      "metadata": {
        "id": "ehJGw5hKTBIq",
        "colab_type": "code",
        "colab": {
          "base_uri": "https://localhost:8080/",
          "height": 34
        },
        "outputId": "987665fd-091c-40a7-af50-348f9618d6e7"
      },
      "source": [
        "torch.normal(mean = 0.5,\n",
        "             std = torch.arange(0.2,0.6))"
      ],
      "execution_count": 49,
      "outputs": [
        {
          "output_type": "execute_result",
          "data": {
            "text/plain": [
              "tensor([0.4939])"
            ]
          },
          "metadata": {
            "tags": []
          },
          "execution_count": 49
        }
      ]
    },
    {
      "cell_type": "markdown",
      "metadata": {
        "id": "cKehx6-3TBIw",
        "colab_type": "text"
      },
      "source": [
        "# **10. Basic Statistics with Tensors** \n",
        "\n",
        "\n",
        "- We can compute basic statistics, such as mean, median, mode, and so forth, from a Torch tensor.\n",
        "\n",
        "- Computation of basic statistics using PyTorch enables the user to apply probability distributions and statistical tests to make inferences from data."
      ]
    },
    {
      "cell_type": "markdown",
      "metadata": {
        "id": "g2UnW62MTBIx",
        "colab_type": "text"
      },
      "source": [
        "### **Mean Computation**\n",
        "\n",
        "- The mean computation is simple to write for a 1D tensor.\n",
        "- However, for a 2D tensor, an extra argument needs to be passed as a mean, median, or mode computation, across which the dimension needs to be specified."
      ]
    },
    {
      "cell_type": "code",
      "metadata": {
        "id": "Mh2VpxYsTBIy",
        "colab_type": "code",
        "colab": {
          "base_uri": "https://localhost:8080/",
          "height": 34
        },
        "outputId": "89d605ba-34c9-4722-e92e-2a344941fe28"
      },
      "source": [
        "# computing the mean\n",
        "torch.mean(torch.tensor([10., 20., 30., 40., 50.]))"
      ],
      "execution_count": 50,
      "outputs": [
        {
          "output_type": "execute_result",
          "data": {
            "text/plain": [
              "tensor(30.)"
            ]
          },
          "metadata": {
            "tags": []
          },
          "execution_count": 50
        }
      ]
    },
    {
      "cell_type": "code",
      "metadata": {
        "id": "tU4vXrOqTBI1",
        "colab_type": "code",
        "colab": {
          "base_uri": "https://localhost:8080/",
          "height": 85
        },
        "outputId": "2f1770d6-4249-4179-ebd0-77127fbfb48a"
      },
      "source": [
        "# declare a tensor\n",
        "v = torch.randn(4,5)\n",
        "v"
      ],
      "execution_count": 51,
      "outputs": [
        {
          "output_type": "execute_result",
          "data": {
            "text/plain": [
              "tensor([[ 0.9570, -0.5510,  2.6617,  2.1479,  1.2907],\n",
              "        [ 0.2612, -0.5862, -1.5105, -0.1225,  0.8078],\n",
              "        [-1.1421,  2.0506,  0.5289, -0.5447,  0.8097],\n",
              "        [ 1.1226, -1.6121,  0.4752,  0.5868, -0.2878]])"
            ]
          },
          "metadata": {
            "tags": []
          },
          "execution_count": 51
        }
      ]
    },
    {
      "cell_type": "code",
      "metadata": {
        "id": "YOOmoryYTBI4",
        "colab_type": "code",
        "colab": {
          "base_uri": "https://localhost:8080/",
          "height": 34
        },
        "outputId": "ff3cb4d2-3322-4ae1-83a1-c464a3fbf3ed"
      },
      "source": [
        "# calculate mean across columns\n",
        "torch.mean(v,dim=0)"
      ],
      "execution_count": 52,
      "outputs": [
        {
          "output_type": "execute_result",
          "data": {
            "text/plain": [
              "tensor([ 0.2997, -0.1746,  0.5388,  0.5169,  0.6551])"
            ]
          },
          "metadata": {
            "tags": []
          },
          "execution_count": 52
        }
      ]
    },
    {
      "cell_type": "code",
      "metadata": {
        "id": "iM3V2so1TBI8",
        "colab_type": "code",
        "colab": {
          "base_uri": "https://localhost:8080/",
          "height": 34
        },
        "outputId": "88070d0b-92b0-4699-ea2c-a6efecbd2f3b"
      },
      "source": [
        "# calculate mean across rows\n",
        "torch.mean(v,dim=1)"
      ],
      "execution_count": 53,
      "outputs": [
        {
          "output_type": "execute_result",
          "data": {
            "text/plain": [
              "tensor([ 1.3013, -0.2300,  0.3405,  0.0569])"
            ]
          },
          "metadata": {
            "tags": []
          },
          "execution_count": 53
        }
      ]
    },
    {
      "cell_type": "markdown",
      "metadata": {
        "id": "lBb0e6xfTBI_",
        "colab_type": "text"
      },
      "source": [
        "- Median, mode and standard deviation computation can be written in the same way."
      ]
    },
    {
      "cell_type": "code",
      "metadata": {
        "id": "NVkZC9IdTBJA",
        "colab_type": "code",
        "colab": {
          "base_uri": "https://localhost:8080/",
          "height": 34
        },
        "outputId": "0142abd5-b201-40fe-f303-3814fb91d3b3"
      },
      "source": [
        "# calculate median across columns\n",
        "torch.median(v,dim=0)"
      ],
      "execution_count": 54,
      "outputs": [
        {
          "output_type": "execute_result",
          "data": {
            "text/plain": [
              "torch.return_types.median(values=tensor([ 0.2612, -0.5862,  0.4752, -0.1225,  0.8078]), indices=tensor([1, 1, 3, 1, 1]))"
            ]
          },
          "metadata": {
            "tags": []
          },
          "execution_count": 54
        }
      ]
    },
    {
      "cell_type": "code",
      "metadata": {
        "id": "Tl56Iaa1TBJI",
        "colab_type": "code",
        "colab": {
          "base_uri": "https://localhost:8080/",
          "height": 34
        },
        "outputId": "136a5afa-9325-4788-f21b-a8977e253380"
      },
      "source": [
        "# calculate median across rows\n",
        "torch.median(v,dim=1)"
      ],
      "execution_count": 55,
      "outputs": [
        {
          "output_type": "execute_result",
          "data": {
            "text/plain": [
              "torch.return_types.median(values=tensor([ 1.2907, -0.1225,  0.5289,  0.4752]), indices=tensor([4, 3, 2, 2]))"
            ]
          },
          "metadata": {
            "tags": []
          },
          "execution_count": 55
        }
      ]
    },
    {
      "cell_type": "code",
      "metadata": {
        "id": "7M3xi25-TBJL",
        "colab_type": "code",
        "colab": {
          "base_uri": "https://localhost:8080/",
          "height": 34
        },
        "outputId": "2eb56e54-681d-407b-b722-a1d92149bc24"
      },
      "source": [
        "# compute mode\n",
        "torch.mode(v)"
      ],
      "execution_count": 56,
      "outputs": [
        {
          "output_type": "execute_result",
          "data": {
            "text/plain": [
              "torch.return_types.mode(values=tensor([-0.5510, -1.5105, -1.1421, -1.6121]), indices=tensor([1, 2, 0, 1]))"
            ]
          },
          "metadata": {
            "tags": []
          },
          "execution_count": 56
        }
      ]
    },
    {
      "cell_type": "code",
      "metadata": {
        "id": "R-mlexUnTBJR",
        "colab_type": "code",
        "colab": {
          "base_uri": "https://localhost:8080/",
          "height": 34
        },
        "outputId": "bd25ce99-cd9e-4373-ab07-f32fc2ba4f9d"
      },
      "source": [
        "# compute mode across rows\n",
        "torch.mode(v,dim=0)"
      ],
      "execution_count": 57,
      "outputs": [
        {
          "output_type": "execute_result",
          "data": {
            "text/plain": [
              "torch.return_types.mode(values=tensor([-1.1421, -1.6121, -1.5105, -0.5447, -0.2878]), indices=tensor([2, 3, 1, 2, 3]))"
            ]
          },
          "metadata": {
            "tags": []
          },
          "execution_count": 57
        }
      ]
    },
    {
      "cell_type": "code",
      "metadata": {
        "id": "UsSkoEJoTBJU",
        "colab_type": "code",
        "colab": {
          "base_uri": "https://localhost:8080/",
          "height": 34
        },
        "outputId": "33500a8b-ef5e-459d-c6e9-7b912fc4ca02"
      },
      "source": [
        "# compute mode across columns\n",
        "torch.mode(v,dim=1)"
      ],
      "execution_count": 58,
      "outputs": [
        {
          "output_type": "execute_result",
          "data": {
            "text/plain": [
              "torch.return_types.mode(values=tensor([-0.5510, -1.5105, -1.1421, -1.6121]), indices=tensor([1, 2, 0, 1]))"
            ]
          },
          "metadata": {
            "tags": []
          },
          "execution_count": 58
        }
      ]
    },
    {
      "cell_type": "markdown",
      "metadata": {
        "id": "VMOPMK_iTBJX",
        "colab_type": "text"
      },
      "source": [
        "### **Compute Standard Deviation**\n",
        "\n",
        "- Standard deviation shows the deviation from the measures of central tendency.\n",
        "- It indicates the consistency of the data/variable. \n",
        "- It shows whether there is enough fluctuation in data or not."
      ]
    },
    {
      "cell_type": "code",
      "metadata": {
        "id": "coOlB_ZsTBJX",
        "colab_type": "code",
        "colab": {
          "base_uri": "https://localhost:8080/",
          "height": 34
        },
        "outputId": "50661424-1672-4d15-caa7-e3b7760cdbec"
      },
      "source": [
        "# compute standard deviation\n",
        "torch.std(v)"
      ],
      "execution_count": 59,
      "outputs": [
        {
          "output_type": "execute_result",
          "data": {
            "text/plain": [
              "tensor(1.1810)"
            ]
          },
          "metadata": {
            "tags": []
          },
          "execution_count": 59
        }
      ]
    },
    {
      "cell_type": "code",
      "metadata": {
        "id": "M_vUz5PfTBJb",
        "colab_type": "code",
        "colab": {
          "base_uri": "https://localhost:8080/",
          "height": 34
        },
        "outputId": "d553c28d-e230-49ba-8ebe-e5c71ed5f75b"
      },
      "source": [
        "# compute standard deviation across columns\n",
        "torch.std(v,dim=0)"
      ],
      "execution_count": 60,
      "outputs": [
        {
          "output_type": "execute_result",
          "data": {
            "text/plain": [
              "tensor([1.0311, 1.5630, 1.7040, 1.1833, 0.6684])"
            ]
          },
          "metadata": {
            "tags": []
          },
          "execution_count": 60
        }
      ]
    },
    {
      "cell_type": "code",
      "metadata": {
        "id": "us87VbYfTBJf",
        "colab_type": "code",
        "colab": {
          "base_uri": "https://localhost:8080/",
          "height": 34
        },
        "outputId": "753c42ef-a256-4683-8dc2-956904ff144a"
      },
      "source": [
        "# compute standard deviation across rows\n",
        "torch.std(v,dim=1)"
      ],
      "execution_count": 61,
      "outputs": [
        {
          "output_type": "execute_result",
          "data": {
            "text/plain": [
              "tensor([1.2366, 0.8799, 1.2412, 1.0601])"
            ]
          },
          "metadata": {
            "tags": []
          },
          "execution_count": 61
        }
      ]
    },
    {
      "cell_type": "markdown",
      "metadata": {
        "id": "DOXDovN3TBJi",
        "colab_type": "text"
      },
      "source": [
        "### **Compute Variance**"
      ]
    },
    {
      "cell_type": "code",
      "metadata": {
        "id": "XeZKEPrTTBJj",
        "colab_type": "code",
        "colab": {
          "base_uri": "https://localhost:8080/",
          "height": 34
        },
        "outputId": "3f7b9801-b79c-4097-b162-64c0f1eead09"
      },
      "source": [
        "# compute variance\n",
        "torch.var(v)"
      ],
      "execution_count": 62,
      "outputs": [
        {
          "output_type": "execute_result",
          "data": {
            "text/plain": [
              "tensor(1.3948)"
            ]
          },
          "metadata": {
            "tags": []
          },
          "execution_count": 62
        }
      ]
    },
    {
      "cell_type": "code",
      "metadata": {
        "id": "Y0-eRQP_TBJm",
        "colab_type": "code",
        "colab": {
          "base_uri": "https://localhost:8080/",
          "height": 34
        },
        "outputId": "7469f91a-1003-4c3f-900a-f6efae293fc8"
      },
      "source": [
        "# compute variance across columns\n",
        "torch.var(v, dim=0)"
      ],
      "execution_count": 63,
      "outputs": [
        {
          "output_type": "execute_result",
          "data": {
            "text/plain": [
              "tensor([1.0632, 2.4430, 2.9035, 1.4003, 0.4467])"
            ]
          },
          "metadata": {
            "tags": []
          },
          "execution_count": 63
        }
      ]
    },
    {
      "cell_type": "code",
      "metadata": {
        "id": "Ij_ef5HgTBJo",
        "colab_type": "code",
        "colab": {
          "base_uri": "https://localhost:8080/",
          "height": 34
        },
        "outputId": "8fd23262-d023-4e2c-a9fc-3207c81e6336"
      },
      "source": [
        "# compute variance across rows\n",
        "torch.var(v, dim=1)"
      ],
      "execution_count": 64,
      "outputs": [
        {
          "output_type": "execute_result",
          "data": {
            "text/plain": [
              "tensor([1.5293, 0.7741, 1.5405, 1.1239])"
            ]
          },
          "metadata": {
            "tags": []
          },
          "execution_count": 64
        }
      ]
    },
    {
      "cell_type": "markdown",
      "metadata": {
        "id": "DJfuuPOiTBJr",
        "colab_type": "text"
      },
      "source": [
        "# **11. Arithmetic Operations on Tensors** \n",
        "\n",
        "- Now, we will see how to perform arithmetic operations on PyTorch tensors.\n"
      ]
    },
    {
      "cell_type": "code",
      "metadata": {
        "id": "Xa8a0NtFTBJt",
        "colab_type": "code",
        "colab": {}
      },
      "source": [
        "# Create two tensors\n",
        "tensor1 = torch.tensor([[1,2,3],[4,5,6]])\n",
        "tensor2 = torch.tensor([[-1,2,-3],[4,-5,6]])"
      ],
      "execution_count": 0,
      "outputs": []
    },
    {
      "cell_type": "code",
      "metadata": {
        "id": "Na732RlsTBJ1",
        "colab_type": "code",
        "colab": {
          "base_uri": "https://localhost:8080/",
          "height": 51
        },
        "outputId": "c1293339-47be-4da5-e1f9-207a914cd919"
      },
      "source": [
        "# Addition\n",
        "print(tensor1+tensor2)"
      ],
      "execution_count": 66,
      "outputs": [
        {
          "output_type": "stream",
          "text": [
            "tensor([[ 0,  4,  0],\n",
            "        [ 8,  0, 12]])\n"
          ],
          "name": "stdout"
        }
      ]
    },
    {
      "cell_type": "code",
      "metadata": {
        "id": "R3Q2dZhcTBJ5",
        "colab_type": "code",
        "colab": {
          "base_uri": "https://localhost:8080/",
          "height": 51
        },
        "outputId": "a3ccb40a-dfb7-4acf-b6ac-ea3b73e70802"
      },
      "source": [
        "# We can also use\n",
        "print(torch.add(tensor1,tensor2))"
      ],
      "execution_count": 67,
      "outputs": [
        {
          "output_type": "stream",
          "text": [
            "tensor([[ 0,  4,  0],\n",
            "        [ 8,  0, 12]])\n"
          ],
          "name": "stdout"
        }
      ]
    },
    {
      "cell_type": "code",
      "metadata": {
        "id": "OHHhK8UqTBJ8",
        "colab_type": "code",
        "colab": {
          "base_uri": "https://localhost:8080/",
          "height": 51
        },
        "outputId": "16ac9f23-7495-4efb-9d30-328e5b0d797b"
      },
      "source": [
        "# Subtraction\n",
        "print(tensor1-tensor2)"
      ],
      "execution_count": 68,
      "outputs": [
        {
          "output_type": "stream",
          "text": [
            "tensor([[ 2,  0,  6],\n",
            "        [ 0, 10,  0]])\n"
          ],
          "name": "stdout"
        }
      ]
    },
    {
      "cell_type": "code",
      "metadata": {
        "id": "eTgWPDY1TBKA",
        "colab_type": "code",
        "colab": {
          "base_uri": "https://localhost:8080/",
          "height": 51
        },
        "outputId": "51f2201d-f075-4f0b-bc49-b696cb80589c"
      },
      "source": [
        "# We can also use\n",
        "print(torch.sub(tensor1,tensor2))"
      ],
      "execution_count": 69,
      "outputs": [
        {
          "output_type": "stream",
          "text": [
            "tensor([[ 2,  0,  6],\n",
            "        [ 0, 10,  0]])\n"
          ],
          "name": "stdout"
        }
      ]
    },
    {
      "cell_type": "code",
      "metadata": {
        "id": "pFoEBcbrTBKE",
        "colab_type": "code",
        "colab": {
          "base_uri": "https://localhost:8080/",
          "height": 51
        },
        "outputId": "025909f0-2526-42e4-d8ea-ffdc36302395"
      },
      "source": [
        "# Multiplication\n",
        "# Tensor with Scalar\n",
        "print(tensor1 * 2)"
      ],
      "execution_count": 70,
      "outputs": [
        {
          "output_type": "stream",
          "text": [
            "tensor([[ 2,  4,  6],\n",
            "        [ 8, 10, 12]])\n"
          ],
          "name": "stdout"
        }
      ]
    },
    {
      "cell_type": "code",
      "metadata": {
        "id": "saSJWviITBKG",
        "colab_type": "code",
        "colab": {
          "base_uri": "https://localhost:8080/",
          "height": 51
        },
        "outputId": "2ddb3c3d-2902-4a3b-cf7c-2ef6c6017fc1"
      },
      "source": [
        "# Tensor with another tensor\n",
        "# Elementwise Multiplication\n",
        "print(tensor1 * tensor2)"
      ],
      "execution_count": 71,
      "outputs": [
        {
          "output_type": "stream",
          "text": [
            "tensor([[ -1,   4,  -9],\n",
            "        [ 16, -25,  36]])\n"
          ],
          "name": "stdout"
        }
      ]
    },
    {
      "cell_type": "code",
      "metadata": {
        "id": "ug9xTcuWTBKI",
        "colab_type": "code",
        "colab": {
          "base_uri": "https://localhost:8080/",
          "height": 51
        },
        "outputId": "2f995052-1366-4d1d-f952-d60c15ddef06"
      },
      "source": [
        "# Matrix multiplication\n",
        "tensor3 = torch.tensor([[1,2],[3,4],[5,6]])\n",
        "print(torch.mm(tensor1,tensor3))"
      ],
      "execution_count": 72,
      "outputs": [
        {
          "output_type": "stream",
          "text": [
            "tensor([[22, 28],\n",
            "        [49, 64]])\n"
          ],
          "name": "stdout"
        }
      ]
    },
    {
      "cell_type": "code",
      "metadata": {
        "id": "zhmUxv5lTBKK",
        "colab_type": "code",
        "colab": {
          "base_uri": "https://localhost:8080/",
          "height": 51
        },
        "outputId": "b7a91f8f-747f-4b96-f0d6-b55433794bce"
      },
      "source": [
        "# Division\n",
        "# Tensor with scalar\n",
        "print(tensor1/2)"
      ],
      "execution_count": 73,
      "outputs": [
        {
          "output_type": "stream",
          "text": [
            "tensor([[0, 1, 1],\n",
            "        [2, 2, 3]])\n"
          ],
          "name": "stdout"
        }
      ]
    },
    {
      "cell_type": "code",
      "metadata": {
        "id": "G87jETylTBKN",
        "colab_type": "code",
        "colab": {
          "base_uri": "https://localhost:8080/",
          "height": 51
        },
        "outputId": "f0eb8b85-e87c-401a-f53a-1d1ec3fea5c8"
      },
      "source": [
        "# Tensor with another tensor\n",
        "# Elementwise division\n",
        "print(tensor1/tensor2)"
      ],
      "execution_count": 74,
      "outputs": [
        {
          "output_type": "stream",
          "text": [
            "tensor([[-1,  1, -1],\n",
            "        [ 1, -1,  1]])\n"
          ],
          "name": "stdout"
        }
      ]
    },
    {
      "cell_type": "markdown",
      "metadata": {
        "id": "aKqj7UfWTBKP",
        "colab_type": "text"
      },
      "source": [
        "# **12. CPU v/s GPU Tensor** \n",
        "\n",
        "\n",
        "- PyTorch has different implementation of Tensor for CPU and GPU. \n",
        "- Every tensor can be converted to GPU in order to perform massively parallel, fast computations. \n",
        "- All operations that will be performed on the tensor will be carried out using GPU-specific routines that come with PyTorch.\n",
        "- We will first see how to create a tensor for GPU."
      ]
    },
    {
      "cell_type": "code",
      "metadata": {
        "id": "iXa9kVHgTBKQ",
        "colab_type": "code",
        "colab": {}
      },
      "source": [
        "# Create a tensor for CPU\n",
        "# This will occupy CPU RAM\n",
        "tensor_cpu = torch.tensor([[1.0, 2.0], [3.0, 4.0], [5.0, 6.0]], device='cpu')"
      ],
      "execution_count": 0,
      "outputs": []
    },
    {
      "cell_type": "code",
      "metadata": {
        "id": "DA3ONySRTBKT",
        "colab_type": "code",
        "colab": {}
      },
      "source": [
        "# Create a tensor for GPU\n",
        "# This will occupy GPU RAM\n",
        "tensor_gpu = torch.tensor([[1.0, 2.0], [3.0, 4.0], [5.0, 6.0]], device='cuda')"
      ],
      "execution_count": 0,
      "outputs": []
    },
    {
      "cell_type": "markdown",
      "metadata": {
        "id": "bESE4FZBTBKX",
        "colab_type": "text"
      },
      "source": [
        "- Just like tensor creation, the operations performed for CPU and GPU tensors are also different and consume RAM corresponding to the device specified."
      ]
    },
    {
      "cell_type": "code",
      "metadata": {
        "id": "4rlOZDFrTBKX",
        "colab_type": "code",
        "colab": {}
      },
      "source": [
        "# This uses CPU RAM\n",
        "tensor_cpu = tensor_cpu * 5 "
      ],
      "execution_count": 0,
      "outputs": []
    },
    {
      "cell_type": "code",
      "metadata": {
        "id": "C5MAuu1GTBKc",
        "colab_type": "code",
        "colab": {}
      },
      "source": [
        "# This uses GPU RAM\n",
        "# Focus on GPU RAM Consumption\n",
        "tensor_gpu = tensor_gpu * 5"
      ],
      "execution_count": 0,
      "outputs": []
    },
    {
      "cell_type": "markdown",
      "metadata": {
        "id": "pQ_Nq0mtTBKe",
        "colab_type": "text"
      },
      "source": [
        "- The key point to note here is that no information flows to CPU in the GPU tensor operations (except if we print or access the tensor).\n",
        "\n",
        "- We can move the GPU tensor to CPU and vice versa as shown below."
      ]
    },
    {
      "cell_type": "code",
      "metadata": {
        "id": "7P9l8B6bTBKf",
        "colab_type": "code",
        "colab": {}
      },
      "source": [
        "# Move GPU tensor to CPU\n",
        "tensor_gpu_cpu = tensor_gpu.to(device='cpu')"
      ],
      "execution_count": 0,
      "outputs": []
    },
    {
      "cell_type": "code",
      "metadata": {
        "id": "lTotqn6uTBKk",
        "colab_type": "code",
        "colab": {}
      },
      "source": [
        "# Move CPU tensor to GPU\n",
        "tensor_cpu_gpu = tensor_cpu.to(device='cuda')"
      ],
      "execution_count": 0,
      "outputs": []
    },
    {
      "cell_type": "markdown",
      "metadata": {
        "id": "PoQt3smgTBKn",
        "colab_type": "text"
      },
      "source": [
        "### **End of the notebook**\n"
      ]
    }
  ]
}